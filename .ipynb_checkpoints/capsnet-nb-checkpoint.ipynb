{
 "cells": [
  {
   "cell_type": "code",
   "execution_count": 1,
   "metadata": {},
   "outputs": [
    {
     "name": "stdout",
     "output_type": "stream",
     "text": [
      "WARNING:tensorflow:From <ipython-input-1-2dce0188a58c>:9: read_data_sets (from tensorflow.contrib.learn.python.learn.datasets.mnist) is deprecated and will be removed in a future version.\n",
      "Instructions for updating:\n",
      "Please use alternatives such as official/mnist/dataset.py from tensorflow/models.\n",
      "WARNING:tensorflow:From /usr/local/lib/python3.5/dist-packages/tensorflow/contrib/learn/python/learn/datasets/mnist.py:260: maybe_download (from tensorflow.contrib.learn.python.learn.datasets.base) is deprecated and will be removed in a future version.\n",
      "Instructions for updating:\n",
      "Please write your own downloading logic.\n",
      "WARNING:tensorflow:From /usr/local/lib/python3.5/dist-packages/tensorflow/contrib/learn/python/learn/datasets/mnist.py:262: extract_images (from tensorflow.contrib.learn.python.learn.datasets.mnist) is deprecated and will be removed in a future version.\n",
      "Instructions for updating:\n",
      "Please use tf.data to implement this functionality.\n",
      "Extracting MNIST_data/train-images-idx3-ubyte.gz\n",
      "WARNING:tensorflow:From /usr/local/lib/python3.5/dist-packages/tensorflow/contrib/learn/python/learn/datasets/mnist.py:267: extract_labels (from tensorflow.contrib.learn.python.learn.datasets.mnist) is deprecated and will be removed in a future version.\n",
      "Instructions for updating:\n",
      "Please use tf.data to implement this functionality.\n",
      "Extracting MNIST_data/train-labels-idx1-ubyte.gz\n",
      "Extracting MNIST_data/t10k-images-idx3-ubyte.gz\n",
      "Extracting MNIST_data/t10k-labels-idx1-ubyte.gz\n",
      "WARNING:tensorflow:From /usr/local/lib/python3.5/dist-packages/tensorflow/contrib/learn/python/learn/datasets/mnist.py:290: DataSet.__init__ (from tensorflow.contrib.learn.python.learn.datasets.mnist) is deprecated and will be removed in a future version.\n",
      "Instructions for updating:\n",
      "Please use alternatives such as official/mnist/dataset.py from tensorflow/models.\n"
     ]
    }
   ],
   "source": [
    "import tensorflow as tf\n",
    "import numpy as np\n",
    "import matplotlib.pyplot as plt\n",
    "\n",
    "from capsnet import CapsNet\n",
    "\n",
    "from tensorflow.examples.tutorials.mnist import input_data\n",
    "\n",
    "mnist = input_data.read_data_sets('MNIST_data/')\n",
    "batch_size = 64"
   ]
  },
  {
   "cell_type": "code",
   "execution_count": 2,
   "metadata": {},
   "outputs": [],
   "source": [
    "tf.reset_default_graph()"
   ]
  },
  {
   "cell_type": "code",
   "execution_count": 3,
   "metadata": {},
   "outputs": [],
   "source": [
    "tf.random.set_random_seed(0)\n",
    "np.random.seed(0)"
   ]
  },
  {
   "cell_type": "code",
   "execution_count": 4,
   "metadata": {},
   "outputs": [],
   "source": [
    "checkpoint_file = './tmp/model.ckpt'"
   ]
  },
  {
   "cell_type": "code",
   "execution_count": 5,
   "metadata": {},
   "outputs": [],
   "source": [
    "def train(model, restore = False, n_epochs = 50):\n",
    "    init = tf.global_variables_initializer()\t\n",
    "\n",
    "    n_iter_train_per_epoch = mnist.train.num_examples // batch_size\n",
    "    n_iter_valid_per_epoch = mnist.test.num_examples // batch_size\n",
    "\n",
    "    best_loss_val = np.infty\n",
    "    \n",
    "    saver = tf.train.Saver()\n",
    "    \n",
    "    with tf.Session() as sess:\n",
    "        writer = tf.summary.FileWriter(\"output\", sess.graph)\n",
    "\n",
    "        if restore and tf.train.checkpoint_exists('checkpoint_file'):\n",
    "            saver.restore(sess, checkpoint_file)\n",
    "        else:\n",
    "            init.run()\n",
    "\n",
    "        print('\\n\\nRunning CapsNet ...\\n')\n",
    "        for epoch in range(n_epochs):\n",
    "            loss_train_ep = []\n",
    "            acc_train_ep  = []\n",
    "            for it in range(1, n_iter_train_per_epoch + 1):\n",
    "                X_batch, y_batch = mnist.train.next_batch(batch_size)\n",
    "\n",
    "                _, loss_batch_train, acc_batch_train = sess.run(\n",
    "                                [model.train_op, model.batch_loss, model.accuracy],\n",
    "                                feed_dict = {model.X: X_batch.reshape([-1, 28, 28, 1]),\n",
    "                                                model.y: y_batch,\n",
    "                                                model.reconstruction: True})\n",
    "\n",
    "                print(\"\\rIter: {}/{} [{:.1f}%] loss : {:.5f}\".format(\n",
    "                    it, n_iter_train_per_epoch, 100.0 * it / n_iter_train_per_epoch, loss_batch_train), end=\"\")\n",
    "\n",
    "                loss_train_ep.append(loss_batch_train)\n",
    "                acc_train_ep.append(acc_batch_train)\n",
    "            loss_train = np.mean(loss_train_ep)\n",
    "            acc_train = np.mean(acc_train_ep)\n",
    "            \n",
    "            loss_val_ep = []\n",
    "            acc_val_ep  = []\n",
    "\n",
    "            for it in range(1, n_iter_valid_per_epoch + 1):\n",
    "                X_batch, y_batch = mnist.test.next_batch(batch_size)\n",
    "                loss_batch_val, acc_batch_val = sess.run(\n",
    "                                [model.batch_loss, model.accuracy],\n",
    "                                feed_dict = {model.X_cropped: X_batch.reshape([-1, 28, 28, 1]),\n",
    "                                                model.y: y_batch})\n",
    "\n",
    "                loss_val_ep.append(loss_batch_val)\n",
    "                acc_val_ep.append(acc_batch_val)\n",
    "\n",
    "                print(\"\\rValidation {}/{} {:.1f}%\".format(it, n_iter_valid_per_epoch, 100.0 * it / n_iter_valid_per_epoch), end=\" \"*30)\n",
    "\n",
    "            loss_val = np.mean(loss_val_ep)\n",
    "            acc_val  = np.mean(acc_val_ep)\n",
    "\n",
    "            print(\"\\repoch: {} loss_train: {:.5f}, loss_val: {:.5f}, train_acc: {:.4f}%, valid_acc: {:.4f}% {}\".format(\n",
    "                epoch + 1, loss_train, loss_val, acc_train * 100.0, acc_val * 100.0, \"(improved)\" if loss_val < best_loss_val else \"\"))\n",
    "\n",
    "            if loss_val < best_loss_val:\n",
    "                saver.save(sess, checkpoint_file)\n",
    "                best_loss_val = loss_val\n",
    "\n",
    "        writer.close()"
   ]
  },
  {
   "cell_type": "code",
   "execution_count": 6,
   "metadata": {},
   "outputs": [
    {
     "name": "stdout",
     "output_type": "stream",
     "text": [
      "WARNING:tensorflow:From /usr/local/lib/python3.5/dist-packages/tensorflow/python/ops/control_flow_ops.py:3632: colocate_with (from tensorflow.python.framework.ops) is deprecated and will be removed in a future version.\n",
      "Instructions for updating:\n",
      "Colocations handled automatically by placer.\n",
      "WARNING:tensorflow:From /home/josechavez_ie/src/repos/capsnet-tensorflow/capsules.py:31: conv2d (from tensorflow.python.layers.convolutional) is deprecated and will be removed in a future version.\n",
      "Instructions for updating:\n",
      "Use keras.layers.conv2d instead.\n",
      "WARNING:tensorflow:From /home/josechavez_ie/src/repos/capsnet-tensorflow/capsnet.py:116: dense (from tensorflow.python.layers.core) is deprecated and will be removed in a future version.\n",
      "Instructions for updating:\n",
      "Use keras.layers.dense instead.\n",
      "WARNING:tensorflow:From /usr/local/lib/python3.5/dist-packages/tensorflow/python/ops/math_ops.py:3066: to_int32 (from tensorflow.python.ops.math_ops) is deprecated and will be removed in a future version.\n",
      "Instructions for updating:\n",
      "Use tf.cast instead.\n"
     ]
    }
   ],
   "source": [
    "model = CapsNet(rounds = 3)"
   ]
  },
  {
   "cell_type": "code",
   "execution_count": 8,
   "metadata": {},
   "outputs": [
    {
     "name": "stdout",
     "output_type": "stream",
     "text": [
      "\n",
      "\n",
      "Running CapsNet ...\n",
      "\n",
      "epoch: 1 loss_train: 0.09407, loss_val: 0.02411, train_acc: 91.3890%, valid_acc: 98.4976% (improved)\n",
      "epoch: 2 loss_train: 0.03029, loss_val: 0.01650, train_acc: 97.7918%, valid_acc: 98.9383% (improved)\n",
      "epoch: 3 loss_train: 0.02118, loss_val: 0.01226, train_acc: 98.3793%, valid_acc: 99.2688% (improved)\n",
      "epoch: 4 loss_train: 0.01643, loss_val: 0.01112, train_acc: 98.8177%, valid_acc: 99.2788% (improved)\n",
      "epoch: 5 loss_train: 0.01409, loss_val: 0.01033, train_acc: 99.0123%, valid_acc: 99.3189% (improved)\n",
      "epoch: 6 loss_train: 0.01213, loss_val: 0.00854, train_acc: 99.1087%, valid_acc: 99.4091% (improved)\n",
      "epoch: 7 loss_train: 0.01087, loss_val: 0.00814, train_acc: 99.1869%, valid_acc: 99.3790% (improved)\n",
      "epoch: 8 loss_train: 0.00961, loss_val: 0.00823, train_acc: 99.2961%, valid_acc: 99.3890% \n",
      "epoch: 9 loss_train: 0.00872, loss_val: 0.00705, train_acc: 99.4107%, valid_acc: 99.4091% (improved)\n",
      "epoch: 10 loss_train: 0.00790, loss_val: 0.00729, train_acc: 99.4670%, valid_acc: 99.3690% \n",
      "epoch: 11 loss_train: 0.00724, loss_val: 0.00666, train_acc: 99.4834%, valid_acc: 99.5493% (improved)\n",
      "epoch: 12 loss_train: 0.00682, loss_val: 0.00584, train_acc: 99.5307%, valid_acc: 99.5493% (improved)\n",
      "epoch: 13 loss_train: 0.00634, loss_val: 0.00595, train_acc: 99.5816%, valid_acc: 99.5693% \n",
      "epoch: 14 loss_train: 0.00563, loss_val: 0.00616, train_acc: 99.6362%, valid_acc: 99.5593% \n",
      "epoch: 15 loss_train: 0.00529, loss_val: 0.00565, train_acc: 99.6653%, valid_acc: 99.5393% (improved)\n",
      "epoch: 16 loss_train: 0.00495, loss_val: 0.00532, train_acc: 99.6890%, valid_acc: 99.5593% (improved)\n",
      "epoch: 17 loss_train: 0.00464, loss_val: 0.00583, train_acc: 99.7108%, valid_acc: 99.4992% \n",
      "epoch: 18 loss_train: 0.00434, loss_val: 0.00511, train_acc: 99.7235%, valid_acc: 99.6294% (improved)\n",
      "epoch: 19 loss_train: 0.00390, loss_val: 0.00506, train_acc: 99.7490%, valid_acc: 99.6494% (improved)\n",
      "epoch: 20 loss_train: 0.00364, loss_val: 0.00585, train_acc: 99.7908%, valid_acc: 99.4691% \n",
      "epoch: 21 loss_train: 0.00335, loss_val: 0.00506, train_acc: 99.8163%, valid_acc: 99.6194% \n",
      "epoch: 22 loss_train: 0.00332, loss_val: 0.00558, train_acc: 99.8145%, valid_acc: 99.5192% \n",
      "epoch: 23 loss_train: 0.00303, loss_val: 0.00534, train_acc: 99.8381%, valid_acc: 99.5393% \n",
      "epoch: 24 loss_train: 0.00278, loss_val: 0.00445, train_acc: 99.8618%, valid_acc: 99.6294% (improved)\n",
      "epoch: 25 loss_train: 0.00266, loss_val: 0.00508, train_acc: 99.8745%, valid_acc: 99.5793% \n",
      "epoch: 26 loss_train: 0.00236, loss_val: 0.00584, train_acc: 99.8945%, valid_acc: 99.5693% \n",
      "epoch: 27 loss_train: 0.00227, loss_val: 0.00562, train_acc: 99.8745%, valid_acc: 99.5793% \n",
      "epoch: 28 loss_train: 0.00208, loss_val: 0.00503, train_acc: 99.9090%, valid_acc: 99.5292% \n",
      "epoch: 29 loss_train: 0.00201, loss_val: 0.00503, train_acc: 99.9127%, valid_acc: 99.5393% \n",
      "epoch: 30 loss_train: 0.00182, loss_val: 0.00447, train_acc: 99.9382%, valid_acc: 99.6394% \n",
      "epoch: 31 loss_train: 0.00170, loss_val: 0.00458, train_acc: 99.9163%, valid_acc: 99.5192% \n",
      "epoch: 32 loss_train: 0.00169, loss_val: 0.00528, train_acc: 99.9291%, valid_acc: 99.5393% \n",
      "epoch: 33 loss_train: 0.00155, loss_val: 0.00505, train_acc: 99.9345%, valid_acc: 99.5893% \n",
      "epoch: 34 loss_train: 0.00138, loss_val: 0.00464, train_acc: 99.9491%, valid_acc: 99.6194% \n",
      "epoch: 35 loss_train: 0.00137, loss_val: 0.00480, train_acc: 99.9509%, valid_acc: 99.6294% \n",
      "epoch: 36 loss_train: 0.00120, loss_val: 0.00500, train_acc: 99.9509%, valid_acc: 99.5793% \n",
      "epoch: 37 loss_train: 0.00117, loss_val: 0.00479, train_acc: 99.9582%, valid_acc: 99.5793% \n",
      "epoch: 38 loss_train: 0.00110, loss_val: 0.00498, train_acc: 99.9636%, valid_acc: 99.5393% \n",
      "epoch: 39 loss_train: 0.00103, loss_val: 0.00553, train_acc: 99.9618%, valid_acc: 99.5493% \n",
      "epoch: 40 loss_train: 0.00099, loss_val: 0.00506, train_acc: 99.9673%, valid_acc: 99.4792% \n",
      "epoch: 41 loss_train: 0.00081, loss_val: 0.00490, train_acc: 99.9782%, valid_acc: 99.5994% \n",
      "epoch: 42 loss_train: 0.00088, loss_val: 0.00448, train_acc: 99.9709%, valid_acc: 99.5493% \n",
      "epoch: 43 loss_train: 0.00085, loss_val: 0.00451, train_acc: 99.9709%, valid_acc: 99.5593% \n",
      "epoch: 44 loss_train: 0.00073, loss_val: 0.00473, train_acc: 99.9782%, valid_acc: 99.5493% \n",
      "epoch: 45 loss_train: 0.00075, loss_val: 0.00446, train_acc: 99.9836%, valid_acc: 99.5493% \n",
      "epoch: 46 loss_train: 0.00076, loss_val: 0.00502, train_acc: 99.9727%, valid_acc: 99.6194% \n",
      "epoch: 47 loss_train: 0.00070, loss_val: 0.00475, train_acc: 99.9691%, valid_acc: 99.6094% \n",
      "epoch: 48 loss_train: 0.00061, loss_val: 0.00542, train_acc: 99.9836%, valid_acc: 99.5393% \n",
      "epoch: 49 loss_train: 0.00062, loss_val: 0.00473, train_acc: 99.9891%, valid_acc: 99.6194% \n",
      "epoch: 50 loss_train: 0.00050, loss_val: 0.00431, train_acc: 99.9873%, valid_acc: 99.6394% (improved)\n"
     ]
    }
   ],
   "source": [
    "train(model, False, 50)"
   ]
  },
  {
   "cell_type": "code",
   "execution_count": 9,
   "metadata": {},
   "outputs": [],
   "source": [
    "def test(model):\n",
    "\tbatch_size = 100\n",
    "\n",
    "\tn_iter_test_per_epoch = mnist.test.num_examples // batch_size\n",
    "\n",
    "\tloss_test_ep = []\n",
    "\tacc_test_ep  = []\n",
    "\n",
    "\twith tf.Session() as sess:\n",
    "\t\tsaver = tf.train.import_meta_graph(checkpoint_file +'.meta')\n",
    "\t\tsaver.restore(sess, tf.train.latest_checkpoint('tmp/'))\n",
    "\t\t#saver.restore(sess, 'tmp/model.ckpt.data-1000-00000-of-00001')\n",
    "\t\tl = tf.get_default_graph().get_operations()\n",
    "\t\tprint(len(l))\n",
    "\t\tprint('\\n\\nTest\\n')\n",
    "\t\tfor it in range(1, n_iter_test_per_epoch + 1):\n",
    "\t\t\tX_batch, y_batch = mnist.test.next_batch(batch_size)\n",
    "\t\t\tloss_batch_test, acc_batch_test = sess.run(\n",
    "\t\t\t\t\t\t\t\t[model.batch_loss, model.accuracy],\n",
    "\t\t\t\t\t\t\t\tfeed_dict = {\tmodel.X_cropped: X_batch.reshape([-1, 28, 28, 1]),\n",
    "\t\t\t\t\t\t\t\t\t\t\t\tmodel.y: y_batch,\n",
    "\t\t\t\t\t\t\t\t\t\t\t\tmodel.reconstruction: False})\n",
    "\n",
    "\t\t\tloss_test_ep.append(loss_batch_test)\n",
    "\t\t\tacc_test_ep.append(acc_batch_test)\n",
    "\t\t\tprint(\"\\rTesting {}/{} {:.1f}%\".format(it, n_iter_test_per_epoch, 100.0 * it / n_iter_test_per_epoch), end=\" \"*30)\t\n",
    "\n",
    "\t\tloss_test = np.mean(loss_test_ep)\n",
    "\t\tacc_test  = np.mean(acc_test_ep)\n",
    "\n",
    "\t\tprint(\"\\r(Testing) accuracy: {:.3f}%, loss: {:.4f}\".format(acc_test*100.0, loss_test))"
   ]
  },
  {
   "cell_type": "code",
   "execution_count": 10,
   "metadata": {},
   "outputs": [
    {
     "name": "stdout",
     "output_type": "stream",
     "text": [
      "WARNING:tensorflow:From /usr/local/lib/python3.5/dist-packages/tensorflow/python/training/saver.py:1266: checkpoint_exists (from tensorflow.python.training.checkpoint_management) is deprecated and will be removed in a future version.\n",
      "Instructions for updating:\n",
      "Use standard file APIs to check for files with this prefix.\n",
      "INFO:tensorflow:Restoring parameters from tmp/model.ckpt\n",
      "2880\n",
      "\n",
      "\n",
      "Test\n",
      "\n",
      "(Testing) accuracy: 99.640%, loss: 0.0044           \n"
     ]
    }
   ],
   "source": [
    "test(model)"
   ]
  },
  {
   "cell_type": "code",
   "execution_count": 96,
   "metadata": {},
   "outputs": [],
   "source": [
    "def reconstruction(model, num_samples):\n",
    "\tsaver = tf.train.Saver()\n",
    "\tsamples_imgs = mnist.test.images[:num_samples].reshape([-1, 28, 28, 1])\n",
    "\n",
    "\twith tf.Session() as sess:\n",
    "\t\tsaver.restore(sess, checkpoint_file)\n",
    "\n",
    "\t\tdecoder_output, y_pred_value = sess.run(\n",
    "\t\t\t[model.decoder_output, model.y_pred],\n",
    "\t\t\tfeed_dict = {\tmodel.X: samples_imgs,\n",
    "\t\t\t\t\t\t\tmodel.y: np.array([], dtype = np.int64)})\n",
    "\n",
    "\n",
    "\tsamples_imgs = samples_imgs.reshape([-1, 28, 28])\n",
    "\treconstructions_imgs = decoder_output.reshape([-1, 28, 28])\t\n",
    "\n",
    "\tplt.figure(figsize = (num_samples * 2, 4))\n",
    "\n",
    "\tfor img_idx in range(num_samples):\n",
    "\t\tplt.subplot(2, num_samples, img_idx + 1)\n",
    "\t\tplt.imshow(samples_imgs[img_idx], cmap='gray')\n",
    "\t\tplt.title(\"Input: \" + str(mnist.test.labels[img_idx]))\n",
    "\t\tplt.axis(\"off\")\n",
    "\n",
    "\t#plt.show()\n",
    "\tfor img_idx in range(num_samples):\n",
    "\t\tplt.subplot(2, num_samples, num_samples + img_idx + 1)\n",
    "\t\tplt.imshow(reconstructions_imgs[img_idx], cmap='gray')\n",
    "\t\tplt.title(\"Output: \" + str(y_pred_value[img_idx]))\n",
    "\t\tplt.axis(\"off\")\n",
    "\n",
    "\tplt.show()"
   ]
  },
  {
   "cell_type": "code",
   "execution_count": 27,
   "metadata": {},
   "outputs": [
    {
     "ename": "NameError",
     "evalue": "name 'saver' is not defined",
     "output_type": "error",
     "traceback": [
      "\u001b[0;31m---------------------------------------------------------------------------\u001b[0m",
      "\u001b[0;31mNameError\u001b[0m                                 Traceback (most recent call last)",
      "\u001b[0;32m<ipython-input-27-fd351a3b3efc>\u001b[0m in \u001b[0;36m<module>\u001b[0;34m\u001b[0m\n\u001b[0;32m----> 1\u001b[0;31m \u001b[0mreconstruction\u001b[0m\u001b[0;34m(\u001b[0m\u001b[0mmodel\u001b[0m\u001b[0;34m,\u001b[0m \u001b[0;36m5\u001b[0m\u001b[0;34m)\u001b[0m\u001b[0;34m\u001b[0m\u001b[0m\n\u001b[0m",
      "\u001b[0;32m<ipython-input-22-3471816b1b6f>\u001b[0m in \u001b[0;36mreconstruction\u001b[0;34m(model, num_samples)\u001b[0m\n\u001b[1;32m      4\u001b[0m \u001b[0;34m\u001b[0m\u001b[0m\n\u001b[1;32m      5\u001b[0m         \u001b[0;32mwith\u001b[0m \u001b[0mtf\u001b[0m\u001b[0;34m.\u001b[0m\u001b[0mSession\u001b[0m\u001b[0;34m(\u001b[0m\u001b[0;34m)\u001b[0m \u001b[0;32mas\u001b[0m \u001b[0msess\u001b[0m\u001b[0;34m:\u001b[0m\u001b[0;34m\u001b[0m\u001b[0m\n\u001b[0;32m----> 6\u001b[0;31m                 \u001b[0msaver\u001b[0m\u001b[0;34m.\u001b[0m\u001b[0mrestore\u001b[0m\u001b[0;34m(\u001b[0m\u001b[0msess\u001b[0m\u001b[0;34m,\u001b[0m \u001b[0mcheckpoint_file\u001b[0m\u001b[0;34m)\u001b[0m\u001b[0;34m\u001b[0m\u001b[0m\n\u001b[0m\u001b[1;32m      7\u001b[0m \u001b[0;34m\u001b[0m\u001b[0m\n\u001b[1;32m      8\u001b[0m \t\tdecoder_output, y_pred_value = sess.run(\n",
      "\u001b[0;31mNameError\u001b[0m: name 'saver' is not defined"
     ]
    }
   ],
   "source": [
    "reconstruction(model, 5)"
   ]
  },
  {
   "cell_type": "code",
   "execution_count": null,
   "metadata": {},
   "outputs": [],
   "source": []
  }
 ],
 "metadata": {
  "kernelspec": {
   "display_name": "Python 3",
   "language": "python",
   "name": "python3"
  },
  "language_info": {
   "codemirror_mode": {
    "name": "ipython",
    "version": 3
   },
   "file_extension": ".py",
   "mimetype": "text/x-python",
   "name": "python",
   "nbconvert_exporter": "python",
   "pygments_lexer": "ipython3",
   "version": "3.5.3"
  }
 },
 "nbformat": 4,
 "nbformat_minor": 2
}
