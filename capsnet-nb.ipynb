{
 "cells": [
  {
   "cell_type": "code",
   "execution_count": 1,
   "metadata": {},
   "outputs": [
    {
     "name": "stdout",
     "output_type": "stream",
     "text": [
      "WARNING:tensorflow:From <ipython-input-1-2dce0188a58c>:9: read_data_sets (from tensorflow.contrib.learn.python.learn.datasets.mnist) is deprecated and will be removed in a future version.\n",
      "Instructions for updating:\n",
      "Please use alternatives such as official/mnist/dataset.py from tensorflow/models.\n",
      "WARNING:tensorflow:From /usr/local/lib/python3.5/dist-packages/tensorflow/contrib/learn/python/learn/datasets/mnist.py:260: maybe_download (from tensorflow.contrib.learn.python.learn.datasets.base) is deprecated and will be removed in a future version.\n",
      "Instructions for updating:\n",
      "Please write your own downloading logic.\n",
      "WARNING:tensorflow:From /usr/local/lib/python3.5/dist-packages/tensorflow/contrib/learn/python/learn/datasets/mnist.py:262: extract_images (from tensorflow.contrib.learn.python.learn.datasets.mnist) is deprecated and will be removed in a future version.\n",
      "Instructions for updating:\n",
      "Please use tf.data to implement this functionality.\n",
      "Extracting MNIST_data/train-images-idx3-ubyte.gz\n",
      "WARNING:tensorflow:From /usr/local/lib/python3.5/dist-packages/tensorflow/contrib/learn/python/learn/datasets/mnist.py:267: extract_labels (from tensorflow.contrib.learn.python.learn.datasets.mnist) is deprecated and will be removed in a future version.\n",
      "Instructions for updating:\n",
      "Please use tf.data to implement this functionality.\n",
      "Extracting MNIST_data/train-labels-idx1-ubyte.gz\n",
      "Extracting MNIST_data/t10k-images-idx3-ubyte.gz\n",
      "Extracting MNIST_data/t10k-labels-idx1-ubyte.gz\n",
      "WARNING:tensorflow:From /usr/local/lib/python3.5/dist-packages/tensorflow/contrib/learn/python/learn/datasets/mnist.py:290: DataSet.__init__ (from tensorflow.contrib.learn.python.learn.datasets.mnist) is deprecated and will be removed in a future version.\n",
      "Instructions for updating:\n",
      "Please use alternatives such as official/mnist/dataset.py from tensorflow/models.\n"
     ]
    }
   ],
   "source": [
    "import tensorflow as tf\n",
    "import numpy as np\n",
    "import matplotlib.pyplot as plt\n",
    "\n",
    "from capsnet import CapsNet\n",
    "\n",
    "from tensorflow.examples.tutorials.mnist import input_data\n",
    "\n",
    "mnist = input_data.read_data_sets('MNIST_data/')\n",
    "batch_size = 64"
   ]
  },
  {
   "cell_type": "code",
   "execution_count": 2,
   "metadata": {},
   "outputs": [],
   "source": [
    "tf.reset_default_graph()"
   ]
  },
  {
   "cell_type": "code",
   "execution_count": 3,
   "metadata": {},
   "outputs": [],
   "source": [
    "tf.random.set_random_seed(0)\n",
    "np.random.seed(0)"
   ]
  },
  {
   "cell_type": "code",
   "execution_count": 4,
   "metadata": {},
   "outputs": [],
   "source": [
    "checkpoint_file = './tmp/model.ckpt'"
   ]
  },
  {
   "cell_type": "code",
   "execution_count": 10,
   "metadata": {},
   "outputs": [],
   "source": [
    "def train(model, restore = False, n_epochs = 50):\n",
    "    init = tf.global_variables_initializer()\t\n",
    "\n",
    "    n_iter_train_per_epoch = mnist.train.num_examples // batch_size\n",
    "    n_iter_valid_per_epoch = mnist.validation.num_examples // batch_size\n",
    "\n",
    "    best_loss_val = np.infty\n",
    "    \n",
    "    saver = tf.train.Saver()\n",
    "    \n",
    "    with tf.Session() as sess:\n",
    "        writer = tf.summary.FileWriter(\"output\", sess.graph)\n",
    "\n",
    "        if restore and tf.train.checkpoint_exists('checkpoint_file'):\n",
    "            saver.restore(sess, checkpoint_file)\n",
    "        else:\n",
    "            init.run()\n",
    "\n",
    "        print('\\n\\nRunning CapsNet ...\\n')\n",
    "        for epoch in range(n_epochs):\n",
    "            loss_train_ep = []\n",
    "            acc_train_ep  = []\n",
    "            for it in range(1, n_iter_train_per_epoch + 1):\n",
    "                X_batch, y_batch = mnist.train.next_batch(batch_size)\n",
    "\n",
    "                _, loss_batch_train, acc_batch_train = sess.run(\n",
    "                                [model.train_op, model.batch_loss, model.accuracy],\n",
    "                                feed_dict = {model.X: X_batch.reshape([-1, 28, 28, 1]),\n",
    "                                                model.y: y_batch,\n",
    "                                                model.reconstruction: True})\n",
    "\n",
    "                print(\"\\rIter: {}/{} [{:.1f}%] loss : {:.5f}\".format(\n",
    "                    it, n_iter_train_per_epoch, 100.0 * it / n_iter_train_per_epoch, loss_batch_train), end=\"\")\n",
    "\n",
    "                loss_train_ep.append(loss_batch_train)\n",
    "                acc_train_ep.append(acc_batch_train)\n",
    "            loss_train = np.mean(loss_train_ep)\n",
    "            acc_train = np.mean(acc_train_ep)\n",
    "            \n",
    "            loss_val_ep = []\n",
    "            acc_val_ep  = []\n",
    "\n",
    "            for it in range(1, n_iter_valid_per_epoch + 1):\n",
    "                X_batch, y_batch = mnist.validation.next_batch(batch_size)\n",
    "                loss_batch_val, acc_batch_val = sess.run(\n",
    "                                [model.batch_loss, model.accuracy],\n",
    "                                feed_dict = {model.X_cropped: X_batch.reshape([-1, 28, 28, 1]),\n",
    "                                                model.y: y_batch})\n",
    "\n",
    "                loss_val_ep.append(loss_batch_val)\n",
    "                acc_val_ep.append(acc_batch_val)\n",
    "\n",
    "                print(\"\\rValidation {}/{} {:.1f}%\".format(it, n_iter_valid_per_epoch, 100.0 * it / n_iter_valid_per_epoch), end=\" \"*30)\n",
    "\n",
    "            loss_val = np.mean(loss_val_ep)\n",
    "            acc_val  = np.mean(acc_val_ep)\n",
    "\n",
    "            print(\"\\repoch: {} loss_train: {:.5f}, loss_val: {:.5f}, train_acc: {:.4f}%, valid_acc: {:.4f}% {}\".format(\n",
    "                epoch + 1, loss_train, loss_val, acc_train * 100.0, acc_val * 100.0, \"(improved)\" if loss_val < best_loss_val else \"\"))\n",
    "\n",
    "            if loss_val < best_loss_val:\n",
    "                best_loss_val = loss_val\n",
    "            saver.save(sess, checkpoint_file)\n",
    "            \n",
    "\n",
    "        writer.close()"
   ]
  },
  {
   "cell_type": "code",
   "execution_count": 11,
   "metadata": {},
   "outputs": [],
   "source": [
    "model = CapsNet(rounds = 3)"
   ]
  },
  {
   "cell_type": "code",
   "execution_count": 12,
   "metadata": {},
   "outputs": [
    {
     "name": "stdout",
     "output_type": "stream",
     "text": [
      "\n",
      "\n",
      "Running CapsNet ...\n",
      "\n",
      "epoch: 1 loss_train: 0.06962, loss_val: 0.01460, train_acc: 92.0911%, valid_acc: 98.8982% (improved)\n",
      "epoch: 2 loss_train: 0.01608, loss_val: 0.00842, train_acc: 98.6594%, valid_acc: 99.3389% (improved)\n",
      "epoch: 3 loss_train: 0.01237, loss_val: 0.00949, train_acc: 98.9250%, valid_acc: 99.1386% \n",
      "epoch: 4 loss_train: 0.00975, loss_val: 0.00736, train_acc: 99.1924%, valid_acc: 99.2788% (improved)\n",
      "epoch: 5 loss_train: 0.00900, loss_val: 0.00732, train_acc: 99.2469%, valid_acc: 99.3389% (improved)\n",
      "epoch: 6 loss_train: 0.00781, loss_val: 0.00685, train_acc: 99.4361%, valid_acc: 99.4391% (improved)\n",
      "epoch: 7 loss_train: 0.00700, loss_val: 0.00606, train_acc: 99.4525%, valid_acc: 99.4391% (improved)\n",
      "epoch: 8 loss_train: 0.00655, loss_val: 0.00619, train_acc: 99.5180%, valid_acc: 99.4391% \n",
      "epoch: 9 loss_train: 0.00606, loss_val: 0.00681, train_acc: 99.5416%, valid_acc: 99.3990% \n",
      "epoch: 10 loss_train: 0.00527, loss_val: 0.00602, train_acc: 99.6617%, valid_acc: 99.4191% (improved)\n",
      "epoch: 11 loss_train: 0.00524, loss_val: 0.00577, train_acc: 99.6344%, valid_acc: 99.5994% (improved)\n",
      "epoch: 12 loss_train: 0.00458, loss_val: 0.00557, train_acc: 99.7344%, valid_acc: 99.5393% (improved)\n",
      "epoch: 13 loss_train: 0.00448, loss_val: 0.00504, train_acc: 99.6999%, valid_acc: 99.6394% (improved)\n",
      "epoch: 14 loss_train: 0.00403, loss_val: 0.00528, train_acc: 99.7526%, valid_acc: 99.5793% \n",
      "epoch: 15 loss_train: 0.00400, loss_val: 0.00605, train_acc: 99.7326%, valid_acc: 99.5593% \n",
      "epoch: 16 loss_train: 0.00372, loss_val: 0.00461, train_acc: 99.7817%, valid_acc: 99.5793% (improved)\n",
      "epoch: 17 loss_train: 0.00337, loss_val: 0.00501, train_acc: 99.8108%, valid_acc: 99.5593% \n",
      "epoch: 18 loss_train: 0.00342, loss_val: 0.00497, train_acc: 99.7963%, valid_acc: 99.5192% \n",
      "epoch: 19 loss_train: 0.00333, loss_val: 0.00479, train_acc: 99.8327%, valid_acc: 99.4992% \n",
      "epoch: 20 loss_train: 0.00289, loss_val: 0.00511, train_acc: 99.8599%, valid_acc: 99.5393% \n",
      "epoch: 21 loss_train: 0.00300, loss_val: 0.00522, train_acc: 99.8545%, valid_acc: 99.5994% \n",
      "epoch: 22 loss_train: 0.00265, loss_val: 0.00503, train_acc: 99.8781%, valid_acc: 99.5793% \n",
      "epoch: 23 loss_train: 0.00247, loss_val: 0.00468, train_acc: 99.8818%, valid_acc: 99.5793% \n",
      "epoch: 24 loss_train: 0.00273, loss_val: 0.00527, train_acc: 99.8454%, valid_acc: 99.5393% \n",
      "epoch: 25 loss_train: 0.00232, loss_val: 0.00504, train_acc: 99.8781%, valid_acc: 99.5192% \n",
      "epoch: 26 loss_train: 0.00230, loss_val: 0.00452, train_acc: 99.8745%, valid_acc: 99.5994% (improved)\n",
      "epoch: 27 loss_train: 0.00239, loss_val: 0.00548, train_acc: 99.8890%, valid_acc: 99.4591% \n",
      "epoch: 28 loss_train: 0.00228, loss_val: 0.00432, train_acc: 99.9200%, valid_acc: 99.5793% (improved)\n",
      "epoch: 29 loss_train: 0.00221, loss_val: 0.00503, train_acc: 99.9054%, valid_acc: 99.3990% \n",
      "epoch: 30 loss_train: 0.00200, loss_val: 0.00409, train_acc: 99.9036%, valid_acc: 99.5994% (improved)\n",
      "epoch: 31 loss_train: 0.00194, loss_val: 0.00421, train_acc: 99.9272%, valid_acc: 99.5994% \n",
      "epoch: 32 loss_train: 0.00187, loss_val: 0.00478, train_acc: 99.9309%, valid_acc: 99.4391% \n",
      "epoch: 33 loss_train: 0.00202, loss_val: 0.00387, train_acc: 99.8963%, valid_acc: 99.6394% (improved)\n",
      "epoch: 34 loss_train: 0.00193, loss_val: 0.00456, train_acc: 99.9090%, valid_acc: 99.5593% \n",
      "epoch: 35 loss_train: 0.00175, loss_val: 0.00480, train_acc: 99.9236%, valid_acc: 99.5793% \n",
      "epoch: 36 loss_train: 0.00163, loss_val: 0.00467, train_acc: 99.9563%, valid_acc: 99.5393% \n",
      "epoch: 37 loss_train: 0.00151, loss_val: 0.00455, train_acc: 99.9491%, valid_acc: 99.6595% \n",
      "epoch: 38 loss_train: 0.00184, loss_val: 0.00497, train_acc: 99.9236%, valid_acc: 99.4792% \n",
      "epoch: 39 loss_train: 0.00167, loss_val: 0.00506, train_acc: 99.9327%, valid_acc: 99.5793% \n",
      "epoch: 40 loss_train: 0.00164, loss_val: 0.00507, train_acc: 99.9363%, valid_acc: 99.4591% \n",
      "epoch: 41 loss_train: 0.00156, loss_val: 0.00411, train_acc: 99.9382%, valid_acc: 99.5593% \n",
      "epoch: 42 loss_train: 0.00158, loss_val: 0.00424, train_acc: 99.9382%, valid_acc: 99.5994% \n",
      "epoch: 43 loss_train: 0.00148, loss_val: 0.00413, train_acc: 99.9272%, valid_acc: 99.6995% \n",
      "epoch: 44 loss_train: 0.00157, loss_val: 0.00552, train_acc: 99.9309%, valid_acc: 99.4792% \n",
      "epoch: 45 loss_train: 0.00148, loss_val: 0.00491, train_acc: 99.9454%, valid_acc: 99.6795% \n",
      "epoch: 46 loss_train: 0.00122, loss_val: 0.00439, train_acc: 99.9618%, valid_acc: 99.6595% \n",
      "epoch: 47 loss_train: 0.00135, loss_val: 0.00550, train_acc: 99.9563%, valid_acc: 99.5192% \n",
      "epoch: 48 loss_train: 0.00128, loss_val: 0.00435, train_acc: 99.9691%, valid_acc: 99.6194% \n",
      "epoch: 49 loss_train: 0.00135, loss_val: 0.00439, train_acc: 99.9618%, valid_acc: 99.5994% \n",
      "epoch: 50 loss_train: 0.00112, loss_val: 0.00421, train_acc: 99.9709%, valid_acc: 99.6394% \n"
     ]
    }
   ],
   "source": [
    "train(model, False, 50)"
   ]
  },
  {
   "cell_type": "code",
   "execution_count": 25,
   "metadata": {},
   "outputs": [],
   "source": [
    "def test(model):\n",
    "    batch_size = 100\n",
    "\n",
    "    n_iter_test_per_epoch = mnist.test.num_examples // batch_size\n",
    "\n",
    "    loss_test_ep = []\n",
    "    acc_test_ep  = []\n",
    "    \n",
    "    with tf.Session() as sess:\n",
    "        saver = tf.train.import_meta_graph(checkpoint_file +'.meta')\n",
    "        saver.restore(sess, tf.train.latest_checkpoint('tmp/'))\n",
    "        \n",
    "        print(\"\\n\")\n",
    "        for it in range(1, n_iter_test_per_epoch + 1):\n",
    "            X_batch, y_batch = mnist.test.next_batch(batch_size)\n",
    "            loss_batch_test, acc_batch_test = sess.run(\n",
    "                [model.batch_loss, model.accuracy],\n",
    "                    feed_dict = {model.X_cropped: X_batch.reshape([-1, 28, 28, 1]),\n",
    "                                model.y: y_batch,\n",
    "                                model.reconstruction: False})\n",
    "\n",
    "            loss_test_ep.append(loss_batch_test)\n",
    "            acc_test_ep.append(acc_batch_test)\n",
    "            print(\"\\rTesting {}/{} {:.1f}%\".format(it, n_iter_test_per_epoch, 100.0 * it / n_iter_test_per_epoch), end=\" \"*30)\t\n",
    "\n",
    "        loss_test = np.mean(loss_test_ep)\n",
    "        acc_test  = np.mean(acc_test_ep)\n",
    "\n",
    "        print(\"\\r(Testing) accuracy: {:.3f}%, loss: {:.4f}\".format(acc_test*100.0, loss_test))"
   ]
  },
  {
   "cell_type": "code",
   "execution_count": 26,
   "metadata": {},
   "outputs": [
    {
     "name": "stdout",
     "output_type": "stream",
     "text": [
      "INFO:tensorflow:Restoring parameters from tmp/model.ckpt\n",
      "\n",
      "\n",
      "(Testing) accuracy: 99.570%, loss: 0.0050           \n"
     ]
    }
   ],
   "source": [
    "test(model)"
   ]
  },
  {
   "cell_type": "code",
   "execution_count": 15,
   "metadata": {},
   "outputs": [],
   "source": [
    "def reconstruction(model, num_samples):\n",
    "    samples_imgs = mnist.test.images[:num_samples].reshape([-1, 28, 28, 1])\n",
    "\n",
    "    with tf.Session() as sess:\n",
    "        saver = tf.train.import_meta_graph(checkpoint_file +'.meta')\n",
    "        saver.restore(sess, tf.train.latest_checkpoint('tmp/'))\n",
    "\n",
    "        decoder_output, y_pred_value = sess.run(\n",
    "            [model.decoder_output, model.y_pred],\n",
    "            feed_dict = {model.X: samples_imgs,\n",
    "                        model.y: np.array([], dtype = np.int64)})\n",
    "\n",
    "\n",
    "    samples_imgs = samples_imgs.reshape([-1, 28, 28])\n",
    "    reconstructions_imgs = decoder_output.reshape([-1, 28, 28])\t\n",
    "\n",
    "    plt.figure(figsize = (num_samples * 2, 4))\n",
    "\n",
    "    for img_idx in range(num_samples):\n",
    "        plt.subplot(2, num_samples, img_idx + 1)\n",
    "        plt.imshow(samples_imgs[img_idx], cmap='gray')\n",
    "        plt.title(\"Input: \" + str(mnist.test.labels[img_idx]))\n",
    "        plt.axis(\"off\")\n",
    "\n",
    "    for img_idx in range(num_samples):\n",
    "        plt.subplot(2, num_samples, num_samples + img_idx + 1)\n",
    "        plt.imshow(reconstructions_imgs[img_idx], cmap='gray')\n",
    "        plt.title(\"Output: \" + str(y_pred_value[img_idx]))\n",
    "        plt.axis(\"off\")\n",
    "\n",
    "plt.show()"
   ]
  },
  {
   "cell_type": "code",
   "execution_count": 16,
   "metadata": {},
   "outputs": [
    {
     "name": "stdout",
     "output_type": "stream",
     "text": [
      "INFO:tensorflow:Restoring parameters from tmp/model.ckpt\n"
     ]
    },
    {
     "data": {
      "image/png": "[encoded data removed]",
      "text/plain": [
       "<Figure size 720x288 with 10 Axes>"
      ]
     },
     "metadata": {
      "needs_background": "light"
     },
     "output_type": "display_data"
    }
   ],
   "source": [
    "reconstruction(model, 5)"
   ]
  },
  {
   "cell_type": "code",
   "execution_count": null,
   "metadata": {},
   "outputs": [],
   "source": []
  }
 ],
 "metadata": {
  "kernelspec": {
   "display_name": "Python 3",
   "language": "python",
   "name": "python3"
  },
  "language_info": {
   "codemirror_mode": {
    "name": "ipython",
    "version": 3
   },
   "file_extension": ".py",
   "mimetype": "text/x-python",
   "name": "python",
   "nbconvert_exporter": "python",
   "pygments_lexer": "ipython3",
   "version": "3.5.3"
  }
 },
 "nbformat": 4,
 "nbformat_minor": 2
}
