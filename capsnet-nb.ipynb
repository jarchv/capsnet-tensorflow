{
 "cells": [
  {
   "cell_type": "code",
   "execution_count": 1,
   "metadata": {},
   "outputs": [
    {
     "name": "stdout",
     "output_type": "stream",
     "text": [
      "WARNING:tensorflow:From <ipython-input-1-711362ec6410>:9: read_data_sets (from tensorflow.contrib.learn.python.learn.datasets.mnist) is deprecated and will be removed in a future version.\n",
      "Instructions for updating:\n",
      "Please use alternatives such as official/mnist/dataset.py from tensorflow/models.\n",
      "WARNING:tensorflow:From /usr/local/lib/python3.5/dist-packages/tensorflow/contrib/learn/python/learn/datasets/mnist.py:260: maybe_download (from tensorflow.contrib.learn.python.learn.datasets.base) is deprecated and will be removed in a future version.\n",
      "Instructions for updating:\n",
      "Please write your own downloading logic.\n",
      "WARNING:tensorflow:From /usr/local/lib/python3.5/dist-packages/tensorflow/contrib/learn/python/learn/datasets/mnist.py:262: extract_images (from tensorflow.contrib.learn.python.learn.datasets.mnist) is deprecated and will be removed in a future version.\n",
      "Instructions for updating:\n",
      "Please use tf.data to implement this functionality.\n",
      "Extracting MNIST_data/train-images-idx3-ubyte.gz\n",
      "WARNING:tensorflow:From /usr/local/lib/python3.5/dist-packages/tensorflow/contrib/learn/python/learn/datasets/mnist.py:267: extract_labels (from tensorflow.contrib.learn.python.learn.datasets.mnist) is deprecated and will be removed in a future version.\n",
      "Instructions for updating:\n",
      "Please use tf.data to implement this functionality.\n",
      "Extracting MNIST_data/train-labels-idx1-ubyte.gz\n",
      "Extracting MNIST_data/t10k-images-idx3-ubyte.gz\n",
      "Extracting MNIST_data/t10k-labels-idx1-ubyte.gz\n",
      "WARNING:tensorflow:From /usr/local/lib/python3.5/dist-packages/tensorflow/contrib/learn/python/learn/datasets/mnist.py:290: DataSet.__init__ (from tensorflow.contrib.learn.python.learn.datasets.mnist) is deprecated and will be removed in a future version.\n",
      "Instructions for updating:\n",
      "Please use alternatives such as official/mnist/dataset.py from tensorflow/models.\n"
     ]
    }
   ],
   "source": [
    "import tensorflow as tf\n",
    "import numpy as np\n",
    "import matplotlib.pyplot as plt\n",
    "\n",
    "from capsnet import CapsNet\n",
    "\n",
    "from tensorflow.examples.tutorials.mnist import input_data\n",
    "\n",
    "mnist = input_data.read_data_sets('MNIST_data/')\n",
    "batch_size = 100"
   ]
  },
  {
   "cell_type": "code",
   "execution_count": 2,
   "metadata": {},
   "outputs": [],
   "source": [
    "tf.reset_default_graph()"
   ]
  },
  {
   "cell_type": "code",
   "execution_count": 3,
   "metadata": {},
   "outputs": [],
   "source": [
    "tf.random.set_random_seed(0)\n",
    "np.random.seed(0)"
   ]
  },
  {
   "cell_type": "code",
   "execution_count": 4,
   "metadata": {},
   "outputs": [],
   "source": [
    "checkpoint_file = './tmp/model.ckpt'"
   ]
  },
  {
   "cell_type": "code",
   "execution_count": 5,
   "metadata": {},
   "outputs": [],
   "source": [
    "def train(model, restore = False, n_epochs = 50):\n",
    "    init = tf.global_variables_initializer()\t\n",
    "\n",
    "    n_iter_train_per_epoch = mnist.train.num_examples // batch_size\n",
    "    n_iter_valid_per_epoch = mnist.validation.num_examples // batch_size\n",
    "\n",
    "    best_loss_val = np.infty\n",
    "    \n",
    "    saver = tf.train.Saver()\n",
    "    \n",
    "    with tf.Session() as sess:\n",
    "        writer = tf.summary.FileWriter(\"output\", sess.graph)\n",
    "\n",
    "        if restore and tf.train.checkpoint_exists('checkpoint_file'):\n",
    "            saver.restore(sess, checkpoint_file)\n",
    "        else:\n",
    "            init.run()\n",
    "\n",
    "        print('\\n\\nRunning CapsNet ...\\n')\n",
    "        for epoch in range(n_epochs):\n",
    "            loss_train_ep = []\n",
    "            acc_train_ep  = []\n",
    "            for it in range(1, n_iter_train_per_epoch + 1):\n",
    "                X_batch, y_batch = mnist.train.next_batch(batch_size)\n",
    "\n",
    "                _, loss_batch_train, acc_batch_train = sess.run(\n",
    "                                [model.train_op, model.batch_loss, model.accuracy],\n",
    "                                feed_dict = {model.X: X_batch.reshape([-1, 28, 28, 1]),\n",
    "                                                model.y: y_batch,\n",
    "                                                model.reconstruction: True})\n",
    "\n",
    "                print(\"\\rIter: {}/{} [{:.1f}%] loss : {:.5f}\".format(\n",
    "                    it, n_iter_train_per_epoch, 100.0 * it / n_iter_train_per_epoch, loss_batch_train), end=\"\")\n",
    "\n",
    "                loss_train_ep.append(loss_batch_train)\n",
    "                acc_train_ep.append(acc_batch_train)\n",
    "            loss_train = np.mean(loss_train_ep)\n",
    "            acc_train = np.mean(acc_train_ep)\n",
    "            \n",
    "            loss_val_ep = []\n",
    "            acc_val_ep  = []\n",
    "\n",
    "            for it in range(1, n_iter_valid_per_epoch + 1):\n",
    "                X_batch, y_batch = mnist.validation.next_batch(batch_size)\n",
    "                loss_batch_val, acc_batch_val = sess.run(\n",
    "                                [model.batch_loss, model.accuracy],\n",
    "                                feed_dict = {model.X_cropped: X_batch.reshape([-1, 28, 28, 1]),\n",
    "                                                model.y: y_batch})\n",
    "\n",
    "                loss_val_ep.append(loss_batch_val)\n",
    "                acc_val_ep.append(acc_batch_val)\n",
    "\n",
    "                print(\"\\rValidation {}/{} {:.1f}%\".format(it, n_iter_valid_per_epoch, 100.0 * it / n_iter_valid_per_epoch), end=\" \"*30)\n",
    "\n",
    "            loss_val = np.mean(loss_val_ep)\n",
    "            acc_val  = np.mean(acc_val_ep)\n",
    "\n",
    "            print(\"\\repoch: {} loss_train: {:.5f}, loss_val: {:.5f}, train_acc: {:.4f}%, valid_acc: {:.4f}% {}\".format(\n",
    "                epoch + 1, loss_train, loss_val, acc_train * 100.0, acc_val * 100.0, \"(improved)\" if loss_val < best_loss_val else \"\"))\n",
    "\n",
    "            if loss_val < best_loss_val:\n",
    "                best_loss_val = loss_val\n",
    "            saver.save(sess, checkpoint_file)\n",
    "            \n",
    "\n",
    "        writer.close()"
   ]
  },
  {
   "cell_type": "code",
   "execution_count": 6,
   "metadata": {},
   "outputs": [
    {
     "name": "stdout",
     "output_type": "stream",
     "text": [
      "WARNING:tensorflow:From /usr/local/lib/python3.5/dist-packages/tensorflow/python/ops/control_flow_ops.py:3632: colocate_with (from tensorflow.python.framework.ops) is deprecated and will be removed in a future version.\n",
      "Instructions for updating:\n",
      "Colocations handled automatically by placer.\n",
      "WARNING:tensorflow:From /home/josechavez_ie/src/repos/capsnet-tensorflow/capsules.py:30: conv2d (from tensorflow.python.layers.convolutional) is deprecated and will be removed in a future version.\n",
      "Instructions for updating:\n",
      "Use keras.layers.conv2d instead.\n",
      "WARNING:tensorflow:From /home/josechavez_ie/src/repos/capsnet-tensorflow/capsnet.py:120: dense (from tensorflow.python.layers.core) is deprecated and will be removed in a future version.\n",
      "Instructions for updating:\n",
      "Use keras.layers.dense instead.\n",
      "WARNING:tensorflow:From /usr/local/lib/python3.5/dist-packages/tensorflow/python/ops/math_ops.py:3066: to_int32 (from tensorflow.python.ops.math_ops) is deprecated and will be removed in a future version.\n",
      "Instructions for updating:\n",
      "Use tf.cast instead.\n"
     ]
    }
   ],
   "source": [
    "model = CapsNet(rounds = 3)"
   ]
  },
  {
   "cell_type": "code",
   "execution_count": 7,
   "metadata": {},
   "outputs": [
    {
     "name": "stdout",
     "output_type": "stream",
     "text": [
      "\n",
      "\n",
      "Running CapsNet ...\n",
      "\n",
      "epoch: 1 loss_train: 0.12554, loss_val: 0.04201, train_acc: 89.4345%, valid_acc: 98.5600% (improved)\n",
      "epoch: 2 loss_train: 0.04445, loss_val: 0.03238, train_acc: 98.2654%, valid_acc: 98.9000% (improved)\n",
      "epoch: 3 loss_train: 0.03551, loss_val: 0.02728, train_acc: 98.7745%, valid_acc: 99.1000% (improved)\n",
      "epoch: 4 loss_train: 0.02943, loss_val: 0.02444, train_acc: 99.0582%, valid_acc: 99.2800% (improved)\n",
      "epoch: 5 loss_train: 0.02599, loss_val: 0.02197, train_acc: 99.2255%, valid_acc: 99.2600% (improved)\n",
      "epoch: 6 loss_train: 0.02245, loss_val: 0.01910, train_acc: 99.3345%, valid_acc: 99.4400% (improved)\n",
      "epoch: 7 loss_train: 0.02081, loss_val: 0.01916, train_acc: 99.4218%, valid_acc: 99.4400% \n",
      "epoch: 8 loss_train: 0.01908, loss_val: 0.01676, train_acc: 99.4545%, valid_acc: 99.4600% (improved)\n",
      "epoch: 9 loss_train: 0.01749, loss_val: 0.01714, train_acc: 99.5291%, valid_acc: 99.3600% \n",
      "epoch: 10 loss_train: 0.01641, loss_val: 0.01511, train_acc: 99.5836%, valid_acc: 99.4400% (improved)\n",
      "epoch: 11 loss_train: 0.01554, loss_val: 0.01456, train_acc: 99.6164%, valid_acc: 99.3200% (improved)\n",
      "epoch: 12 loss_train: 0.01436, loss_val: 0.01445, train_acc: 99.6764%, valid_acc: 99.4400% (improved)\n",
      "epoch: 13 loss_train: 0.01372, loss_val: 0.01477, train_acc: 99.6964%, valid_acc: 99.3600% \n",
      "epoch: 14 loss_train: 0.01341, loss_val: 0.01378, train_acc: 99.6891%, valid_acc: 99.5000% (improved)\n",
      "epoch: 15 loss_train: 0.01246, loss_val: 0.01263, train_acc: 99.7473%, valid_acc: 99.4400% (improved)\n",
      "epoch: 16 loss_train: 0.01197, loss_val: 0.01229, train_acc: 99.7582%, valid_acc: 99.4800% (improved)\n",
      "epoch: 17 loss_train: 0.01124, loss_val: 0.01223, train_acc: 99.8182%, valid_acc: 99.4600% (improved)\n",
      "epoch: 18 loss_train: 0.01107, loss_val: 0.01245, train_acc: 99.7891%, valid_acc: 99.3200% \n",
      "epoch: 19 loss_train: 0.01048, loss_val: 0.01157, train_acc: 99.8018%, valid_acc: 99.5000% (improved)\n",
      "epoch: 20 loss_train: 0.01008, loss_val: 0.01132, train_acc: 99.8182%, valid_acc: 99.4400% (improved)\n",
      "epoch: 21 loss_train: 0.00971, loss_val: 0.01104, train_acc: 99.8545%, valid_acc: 99.4600% (improved)\n",
      "epoch: 22 loss_train: 0.00931, loss_val: 0.01106, train_acc: 99.8764%, valid_acc: 99.4400% \n",
      "epoch: 23 loss_train: 0.00920, loss_val: 0.01090, train_acc: 99.8782%, valid_acc: 99.4600% (improved)\n",
      "epoch: 24 loss_train: 0.00879, loss_val: 0.01086, train_acc: 99.8600%, valid_acc: 99.4600% (improved)\n",
      "epoch: 25 loss_train: 0.00865, loss_val: 0.01003, train_acc: 99.8800%, valid_acc: 99.5000% (improved)\n",
      "epoch: 26 loss_train: 0.00824, loss_val: 0.01046, train_acc: 99.8945%, valid_acc: 99.5000% \n",
      "epoch: 27 loss_train: 0.00823, loss_val: 0.01006, train_acc: 99.9036%, valid_acc: 99.5000% \n",
      "epoch: 28 loss_train: 0.00786, loss_val: 0.00988, train_acc: 99.9091%, valid_acc: 99.4600% (improved)\n",
      "epoch: 29 loss_train: 0.00780, loss_val: 0.01016, train_acc: 99.9073%, valid_acc: 99.4600% \n",
      "epoch: 30 loss_train: 0.00763, loss_val: 0.00977, train_acc: 99.9145%, valid_acc: 99.4600% (improved)\n",
      "epoch: 31 loss_train: 0.00726, loss_val: 0.01002, train_acc: 99.9364%, valid_acc: 99.5000% \n",
      "epoch: 32 loss_train: 0.00745, loss_val: 0.01012, train_acc: 99.9145%, valid_acc: 99.4000% \n",
      "epoch: 33 loss_train: 0.00714, loss_val: 0.00940, train_acc: 99.9255%, valid_acc: 99.5200% (improved)\n",
      "epoch: 34 loss_train: 0.00710, loss_val: 0.00960, train_acc: 99.9454%, valid_acc: 99.4800% \n",
      "epoch: 35 loss_train: 0.00683, loss_val: 0.00955, train_acc: 99.9418%, valid_acc: 99.4600% \n",
      "epoch: 36 loss_train: 0.00660, loss_val: 0.00986, train_acc: 99.9509%, valid_acc: 99.4600% \n",
      "epoch: 37 loss_train: 0.00680, loss_val: 0.00906, train_acc: 99.9364%, valid_acc: 99.5000% (improved)\n",
      "epoch: 38 loss_train: 0.00648, loss_val: 0.00998, train_acc: 99.9491%, valid_acc: 99.3800% \n",
      "epoch: 39 loss_train: 0.00644, loss_val: 0.01023, train_acc: 99.9527%, valid_acc: 99.3800% \n",
      "epoch: 40 loss_train: 0.00632, loss_val: 0.00907, train_acc: 99.9436%, valid_acc: 99.4600% \n",
      "epoch: 41 loss_train: 0.00610, loss_val: 0.00972, train_acc: 99.9545%, valid_acc: 99.4400% \n",
      "epoch: 42 loss_train: 0.00615, loss_val: 0.00963, train_acc: 99.9527%, valid_acc: 99.4400% \n",
      "epoch: 43 loss_train: 0.00602, loss_val: 0.00904, train_acc: 99.9564%, valid_acc: 99.5000% (improved)\n",
      "epoch: 44 loss_train: 0.00587, loss_val: 0.00906, train_acc: 99.9600%, valid_acc: 99.4400% \n",
      "epoch: 45 loss_train: 0.00585, loss_val: 0.00985, train_acc: 99.9655%, valid_acc: 99.4200% \n",
      "epoch: 46 loss_train: 0.00594, loss_val: 0.00926, train_acc: 99.9491%, valid_acc: 99.4400% \n",
      "epoch: 47 loss_train: 0.00584, loss_val: 0.00906, train_acc: 99.9600%, valid_acc: 99.4000% \n",
      "epoch: 48 loss_train: 0.00570, loss_val: 0.00913, train_acc: 99.9636%, valid_acc: 99.4400% \n",
      "epoch: 49 loss_train: 0.00561, loss_val: 0.00943, train_acc: 99.9691%, valid_acc: 99.3800% \n",
      "epoch: 50 loss_train: 0.00544, loss_val: 0.00898, train_acc: 99.9745%, valid_acc: 99.4800% (improved)\n"
     ]
    }
   ],
   "source": [
    "train(model, False, 50)"
   ]
  },
  {
   "cell_type": "code",
   "execution_count": 8,
   "metadata": {},
   "outputs": [],
   "source": [
    "def test(model):\n",
    "    batch_size = 100\n",
    "\n",
    "    n_iter_test_per_epoch = mnist.test.num_examples // batch_size\n",
    "\n",
    "    loss_test_ep = []\n",
    "    acc_test_ep  = []\n",
    "    \n",
    "    with tf.Session() as sess:\n",
    "        saver = tf.train.import_meta_graph(checkpoint_file +'.meta')\n",
    "        saver.restore(sess, tf.train.latest_checkpoint('tmp/'))\n",
    "        \n",
    "        print(\"\\n\")\n",
    "        for it in range(1, n_iter_test_per_epoch + 1):\n",
    "            X_batch, y_batch = mnist.test.next_batch(batch_size)\n",
    "            loss_batch_test, acc_batch_test = sess.run(\n",
    "                [model.batch_loss, model.accuracy],\n",
    "                    feed_dict = {model.X_cropped: X_batch.reshape([-1, 28, 28, 1]),\n",
    "                                model.y: y_batch,\n",
    "                                model.reconstruction: False})\n",
    "\n",
    "            loss_test_ep.append(loss_batch_test)\n",
    "            acc_test_ep.append(acc_batch_test)\n",
    "            print(\"\\rTesting {}/{} {:.1f}%\".format(it, n_iter_test_per_epoch, 100.0 * it / n_iter_test_per_epoch), end=\" \"*30)\t\n",
    "\n",
    "        loss_test = np.mean(loss_test_ep)\n",
    "        acc_test  = np.mean(acc_test_ep)\n",
    "\n",
    "        print(\"\\r(Testing) accuracy: {:.3f}%, loss: {:.4f}\".format(acc_test*100.0, loss_test))"
   ]
  },
  {
   "cell_type": "code",
   "execution_count": 9,
   "metadata": {},
   "outputs": [
    {
     "name": "stdout",
     "output_type": "stream",
     "text": [
      "WARNING:tensorflow:From /usr/local/lib/python3.5/dist-packages/tensorflow/python/training/saver.py:1266: checkpoint_exists (from tensorflow.python.training.checkpoint_management) is deprecated and will be removed in a future version.\n",
      "Instructions for updating:\n",
      "Use standard file APIs to check for files with this prefix.\n",
      "INFO:tensorflow:Restoring parameters from tmp/model.ckpt\n",
      "\n",
      "\n",
      "(Testing) accuracy: 99.450%, loss: 0.0098           \n"
     ]
    }
   ],
   "source": [
    "test(model)"
   ]
  },
  {
   "cell_type": "code",
   "execution_count": 10,
   "metadata": {},
   "outputs": [],
   "source": [
    "def reconstruction(model, num_samples):\n",
    "    samples_imgs = mnist.test.images[:num_samples].reshape([-1, 28, 28, 1])\n",
    "\n",
    "    with tf.Session() as sess:\n",
    "        saver = tf.train.import_meta_graph(checkpoint_file +'.meta')\n",
    "        saver.restore(sess, tf.train.latest_checkpoint('tmp/'))\n",
    "\n",
    "        decoder_output, y_pred_value = sess.run(\n",
    "            [model.decoder_output, model.y_pred],\n",
    "            feed_dict = {model.X_cropped: samples_imgs})\n",
    "\n",
    "\n",
    "    samples_imgs = samples_imgs.reshape([-1, 28, 28])\n",
    "    reconstructions_imgs = decoder_output.reshape([-1, 28, 28])\t\n",
    "\n",
    "    plt.figure(figsize = (num_samples * 2, 4))\n",
    "\n",
    "    for img_idx in range(num_samples):\n",
    "        plt.subplot(2, num_samples, img_idx + 1)\n",
    "        plt.imshow(samples_imgs[img_idx], cmap='gray')\n",
    "        plt.title(\"Input: \" + str(mnist.test.labels[img_idx]))\n",
    "        plt.axis(\"off\")\n",
    "\n",
    "    for img_idx in range(num_samples):\n",
    "        plt.subplot(2, num_samples, num_samples + img_idx + 1)\n",
    "        plt.imshow(reconstructions_imgs[img_idx], cmap='gray')\n",
    "        plt.title(\"Output: \" + str(y_pred_value[img_idx]))\n",
    "        plt.axis(\"off\")\n",
    "\n",
    "plt.show()"
   ]
  },
  {
   "cell_type": "code",
   "execution_count": 11,
   "metadata": {},
   "outputs": [
    {
     "name": "stdout",
     "output_type": "stream",
     "text": [
      "INFO:tensorflow:Restoring parameters from tmp/model.ckpt\n"
     ]
    },
    {
     "ename": "InvalidArgumentError",
     "evalue": "slice index 5 of dimension 0 out of bounds.\n\t [[node DigitCaps/routing/strided_slice_10 (defined at /home/josechavez_ie/src/repos/capsnet-tensorflow/capsules.py:124) ]]\n\t [[node Masking/y_pred (defined at /home/josechavez_ie/src/repos/capsnet-tensorflow/capsnet.py:95) ]]\n\nCaused by op 'DigitCaps/routing/strided_slice_10', defined at:\n  File \"/usr/lib/python3.5/runpy.py\", line 193, in _run_module_as_main\n    \"__main__\", mod_spec)\n  File \"/usr/lib/python3.5/runpy.py\", line 85, in _run_code\n    exec(code, run_globals)\n  File \"/usr/local/lib/python3.5/dist-packages/ipykernel_launcher.py\", line 16, in <module>\n    app.launch_new_instance()\n  File \"/usr/local/lib/python3.5/dist-packages/traitlets/config/application.py\", line 658, in launch_instance\n    app.start()\n  File \"/usr/local/lib/python3.5/dist-packages/ipykernel/kernelapp.py\", line 505, in start\n    self.io_loop.start()\n  File \"/usr/local/lib/python3.5/dist-packages/tornado/platform/asyncio.py\", line 132, in start\n    self.asyncio_loop.run_forever()\n  File \"/usr/lib/python3.5/asyncio/base_events.py\", line 421, in run_forever\n    self._run_once()\n  File \"/usr/lib/python3.5/asyncio/base_events.py\", line 1424, in _run_once\n    handle._run()\n  File \"/usr/lib/python3.5/asyncio/events.py\", line 126, in _run\n    self._callback(*self._args)\n  File \"/usr/local/lib/python3.5/dist-packages/tornado/ioloop.py\", line 758, in _run_callback\n    ret = callback()\n  File \"/usr/local/lib/python3.5/dist-packages/tornado/stack_context.py\", line 300, in null_wrapper\n    return fn(*args, **kwargs)\n  File \"/usr/local/lib/python3.5/dist-packages/tornado/gen.py\", line 1233, in inner\n    self.run()\n  File \"/usr/local/lib/python3.5/dist-packages/tornado/gen.py\", line 1147, in run\n    yielded = self.gen.send(value)\n  File \"/usr/local/lib/python3.5/dist-packages/ipykernel/kernelbase.py\", line 357, in process_one\n    yield gen.maybe_future(dispatch(*args))\n  File \"/usr/local/lib/python3.5/dist-packages/tornado/gen.py\", line 326, in wrapper\n    yielded = next(result)\n  File \"/usr/local/lib/python3.5/dist-packages/ipykernel/kernelbase.py\", line 267, in dispatch_shell\n    yield gen.maybe_future(handler(stream, idents, msg))\n  File \"/usr/local/lib/python3.5/dist-packages/tornado/gen.py\", line 326, in wrapper\n    yielded = next(result)\n  File \"/usr/local/lib/python3.5/dist-packages/ipykernel/kernelbase.py\", line 534, in execute_request\n    user_expressions, allow_stdin,\n  File \"/usr/local/lib/python3.5/dist-packages/tornado/gen.py\", line 326, in wrapper\n    yielded = next(result)\n  File \"/usr/local/lib/python3.5/dist-packages/ipykernel/ipkernel.py\", line 294, in do_execute\n    res = shell.run_cell(code, store_history=store_history, silent=silent)\n  File \"/usr/local/lib/python3.5/dist-packages/ipykernel/zmqshell.py\", line 536, in run_cell\n    return super(ZMQInteractiveShell, self).run_cell(*args, **kwargs)\n  File \"/usr/local/lib/python3.5/dist-packages/IPython/core/interactiveshell.py\", line 2848, in run_cell\n    raw_cell, store_history, silent, shell_futures)\n  File \"/usr/local/lib/python3.5/dist-packages/IPython/core/interactiveshell.py\", line 2874, in _run_cell\n    return runner(coro)\n  File \"/usr/local/lib/python3.5/dist-packages/IPython/core/async_helpers.py\", line 67, in _pseudo_sync_runner\n    coro.send(None)\n  File \"/usr/local/lib/python3.5/dist-packages/IPython/core/interactiveshell.py\", line 3049, in run_cell_async\n    interactivity=interactivity, compiler=compiler, result=result)\n  File \"/usr/local/lib/python3.5/dist-packages/IPython/core/interactiveshell.py\", line 3214, in run_ast_nodes\n    if (yield from self.run_code(code, result)):\n  File \"/usr/local/lib/python3.5/dist-packages/IPython/core/interactiveshell.py\", line 3296, in run_code\n    exec(code_obj, self.user_global_ns, self.user_ns)\n  File \"<ipython-input-6-b1a696136a31>\", line 1, in <module>\n    model = CapsNet(rounds = 3, batch_size = batch_size)\n  File \"/home/josechavez_ie/src/repos/capsnet-tensorflow/capsnet.py\", line 28, in __init__\n    self.build_model()\n  File \"/home/josechavez_ie/src/repos/capsnet-tensorflow/capsnet.py\", line 56, in build_model\n    name        = 'DigitCaps'\n  File \"/home/josechavez_ie/src/repos/capsnet-tensorflow/capsules.py\", line 71, in layer\n    output = self.routing(inputs_tile, inputs.shape.as_list())\n  File \"/home/josechavez_ie/src/repos/capsnet-tensorflow/capsules.py\", line 124, in routing\n    u_ji_k = u_ji[sample_k]                 # [1152, 10, 16]\n  File \"/usr/local/lib/python3.5/dist-packages/tensorflow/python/ops/array_ops.py\", line 654, in _slice_helper\n    name=name)\n  File \"/usr/local/lib/python3.5/dist-packages/tensorflow/python/ops/array_ops.py\", line 820, in strided_slice\n    shrink_axis_mask=shrink_axis_mask)\n  File \"/usr/local/lib/python3.5/dist-packages/tensorflow/python/ops/gen_array_ops.py\", line 9356, in strided_slice\n    shrink_axis_mask=shrink_axis_mask, name=name)\n  File \"/usr/local/lib/python3.5/dist-packages/tensorflow/python/framework/op_def_library.py\", line 788, in _apply_op_helper\n    op_def=op_def)\n  File \"/usr/local/lib/python3.5/dist-packages/tensorflow/python/util/deprecation.py\", line 507, in new_func\n    return func(*args, **kwargs)\n  File \"/usr/local/lib/python3.5/dist-packages/tensorflow/python/framework/ops.py\", line 3300, in create_op\n    op_def=op_def)\n  File \"/usr/local/lib/python3.5/dist-packages/tensorflow/python/framework/ops.py\", line 1801, in __init__\n    self._traceback = tf_stack.extract_stack()\n\nInvalidArgumentError (see above for traceback): slice index 5 of dimension 0 out of bounds.\n\t [[node DigitCaps/routing/strided_slice_10 (defined at /home/josechavez_ie/src/repos/capsnet-tensorflow/capsules.py:124) ]]\n\t [[node Masking/y_pred (defined at /home/josechavez_ie/src/repos/capsnet-tensorflow/capsnet.py:95) ]]\n",
     "output_type": "error",
     "traceback": [
      "\u001b[0;31m---------------------------------------------------------------------------\u001b[0m",
      "\u001b[0;31mInvalidArgumentError\u001b[0m                      Traceback (most recent call last)",
      "\u001b[0;32m/usr/local/lib/python3.5/dist-packages/tensorflow/python/client/session.py\u001b[0m in \u001b[0;36m_do_call\u001b[0;34m(self, fn, *args)\u001b[0m\n\u001b[1;32m   1333\u001b[0m     \u001b[0;32mtry\u001b[0m\u001b[0;34m:\u001b[0m\u001b[0;34m\u001b[0m\u001b[0m\n\u001b[0;32m-> 1334\u001b[0;31m       \u001b[0;32mreturn\u001b[0m \u001b[0mfn\u001b[0m\u001b[0;34m(\u001b[0m\u001b[0;34m*\u001b[0m\u001b[0margs\u001b[0m\u001b[0;34m)\u001b[0m\u001b[0;34m\u001b[0m\u001b[0m\n\u001b[0m\u001b[1;32m   1335\u001b[0m     \u001b[0;32mexcept\u001b[0m \u001b[0merrors\u001b[0m\u001b[0;34m.\u001b[0m\u001b[0mOpError\u001b[0m \u001b[0;32mas\u001b[0m \u001b[0me\u001b[0m\u001b[0;34m:\u001b[0m\u001b[0;34m\u001b[0m\u001b[0m\n",
      "\u001b[0;32m/usr/local/lib/python3.5/dist-packages/tensorflow/python/client/session.py\u001b[0m in \u001b[0;36m_run_fn\u001b[0;34m(feed_dict, fetch_list, target_list, options, run_metadata)\u001b[0m\n\u001b[1;32m   1318\u001b[0m       return self._call_tf_sessionrun(\n\u001b[0;32m-> 1319\u001b[0;31m           options, feed_dict, fetch_list, target_list, run_metadata)\n\u001b[0m\u001b[1;32m   1320\u001b[0m \u001b[0;34m\u001b[0m\u001b[0m\n",
      "\u001b[0;32m/usr/local/lib/python3.5/dist-packages/tensorflow/python/client/session.py\u001b[0m in \u001b[0;36m_call_tf_sessionrun\u001b[0;34m(self, options, feed_dict, fetch_list, target_list, run_metadata)\u001b[0m\n\u001b[1;32m   1406\u001b[0m         \u001b[0mself\u001b[0m\u001b[0;34m.\u001b[0m\u001b[0m_session\u001b[0m\u001b[0;34m,\u001b[0m \u001b[0moptions\u001b[0m\u001b[0;34m,\u001b[0m \u001b[0mfeed_dict\u001b[0m\u001b[0;34m,\u001b[0m \u001b[0mfetch_list\u001b[0m\u001b[0;34m,\u001b[0m \u001b[0mtarget_list\u001b[0m\u001b[0;34m,\u001b[0m\u001b[0;34m\u001b[0m\u001b[0m\n\u001b[0;32m-> 1407\u001b[0;31m         run_metadata)\n\u001b[0m\u001b[1;32m   1408\u001b[0m \u001b[0;34m\u001b[0m\u001b[0m\n",
      "\u001b[0;31mInvalidArgumentError\u001b[0m: slice index 5 of dimension 0 out of bounds.\n\t [[{{node DigitCaps/routing/strided_slice_10}}]]\n\t [[{{node Masking/y_pred}}]]",
      "\nDuring handling of the above exception, another exception occurred:\n",
      "\u001b[0;31mInvalidArgumentError\u001b[0m                      Traceback (most recent call last)",
      "\u001b[0;32m<ipython-input-11-fd351a3b3efc>\u001b[0m in \u001b[0;36m<module>\u001b[0;34m\u001b[0m\n\u001b[0;32m----> 1\u001b[0;31m \u001b[0mreconstruction\u001b[0m\u001b[0;34m(\u001b[0m\u001b[0mmodel\u001b[0m\u001b[0;34m,\u001b[0m \u001b[0;36m5\u001b[0m\u001b[0;34m)\u001b[0m\u001b[0;34m\u001b[0m\u001b[0m\n\u001b[0m",
      "\u001b[0;32m<ipython-input-10-381020859d80>\u001b[0m in \u001b[0;36mreconstruction\u001b[0;34m(model, num_samples)\u001b[0m\n\u001b[1;32m      8\u001b[0m         decoder_output, y_pred_value = sess.run(\n\u001b[1;32m      9\u001b[0m             \u001b[0;34m[\u001b[0m\u001b[0mmodel\u001b[0m\u001b[0;34m.\u001b[0m\u001b[0mdecoder_output\u001b[0m\u001b[0;34m,\u001b[0m \u001b[0mmodel\u001b[0m\u001b[0;34m.\u001b[0m\u001b[0my_pred\u001b[0m\u001b[0;34m]\u001b[0m\u001b[0;34m,\u001b[0m\u001b[0;34m\u001b[0m\u001b[0m\n\u001b[0;32m---> 10\u001b[0;31m             feed_dict = {model.X_cropped: samples_imgs})\n\u001b[0m\u001b[1;32m     11\u001b[0m \u001b[0;34m\u001b[0m\u001b[0m\n\u001b[1;32m     12\u001b[0m \u001b[0;34m\u001b[0m\u001b[0m\n",
      "\u001b[0;32m/usr/local/lib/python3.5/dist-packages/tensorflow/python/client/session.py\u001b[0m in \u001b[0;36mrun\u001b[0;34m(self, fetches, feed_dict, options, run_metadata)\u001b[0m\n\u001b[1;32m    927\u001b[0m     \u001b[0;32mtry\u001b[0m\u001b[0;34m:\u001b[0m\u001b[0;34m\u001b[0m\u001b[0m\n\u001b[1;32m    928\u001b[0m       result = self._run(None, fetches, feed_dict, options_ptr,\n\u001b[0;32m--> 929\u001b[0;31m                          run_metadata_ptr)\n\u001b[0m\u001b[1;32m    930\u001b[0m       \u001b[0;32mif\u001b[0m \u001b[0mrun_metadata\u001b[0m\u001b[0;34m:\u001b[0m\u001b[0;34m\u001b[0m\u001b[0m\n\u001b[1;32m    931\u001b[0m         \u001b[0mproto_data\u001b[0m \u001b[0;34m=\u001b[0m \u001b[0mtf_session\u001b[0m\u001b[0;34m.\u001b[0m\u001b[0mTF_GetBuffer\u001b[0m\u001b[0;34m(\u001b[0m\u001b[0mrun_metadata_ptr\u001b[0m\u001b[0;34m)\u001b[0m\u001b[0;34m\u001b[0m\u001b[0m\n",
      "\u001b[0;32m/usr/local/lib/python3.5/dist-packages/tensorflow/python/client/session.py\u001b[0m in \u001b[0;36m_run\u001b[0;34m(self, handle, fetches, feed_dict, options, run_metadata)\u001b[0m\n\u001b[1;32m   1150\u001b[0m     \u001b[0;32mif\u001b[0m \u001b[0mfinal_fetches\u001b[0m \u001b[0;32mor\u001b[0m \u001b[0mfinal_targets\u001b[0m \u001b[0;32mor\u001b[0m \u001b[0;34m(\u001b[0m\u001b[0mhandle\u001b[0m \u001b[0;32mand\u001b[0m \u001b[0mfeed_dict_tensor\u001b[0m\u001b[0;34m)\u001b[0m\u001b[0;34m:\u001b[0m\u001b[0;34m\u001b[0m\u001b[0m\n\u001b[1;32m   1151\u001b[0m       results = self._do_run(handle, final_targets, final_fetches,\n\u001b[0;32m-> 1152\u001b[0;31m                              feed_dict_tensor, options, run_metadata)\n\u001b[0m\u001b[1;32m   1153\u001b[0m     \u001b[0;32melse\u001b[0m\u001b[0;34m:\u001b[0m\u001b[0;34m\u001b[0m\u001b[0m\n\u001b[1;32m   1154\u001b[0m       \u001b[0mresults\u001b[0m \u001b[0;34m=\u001b[0m \u001b[0;34m[\u001b[0m\u001b[0;34m]\u001b[0m\u001b[0;34m\u001b[0m\u001b[0m\n",
      "\u001b[0;32m/usr/local/lib/python3.5/dist-packages/tensorflow/python/client/session.py\u001b[0m in \u001b[0;36m_do_run\u001b[0;34m(self, handle, target_list, fetch_list, feed_dict, options, run_metadata)\u001b[0m\n\u001b[1;32m   1326\u001b[0m     \u001b[0;32mif\u001b[0m \u001b[0mhandle\u001b[0m \u001b[0;32mis\u001b[0m \u001b[0;32mNone\u001b[0m\u001b[0;34m:\u001b[0m\u001b[0;34m\u001b[0m\u001b[0m\n\u001b[1;32m   1327\u001b[0m       return self._do_call(_run_fn, feeds, fetches, targets, options,\n\u001b[0;32m-> 1328\u001b[0;31m                            run_metadata)\n\u001b[0m\u001b[1;32m   1329\u001b[0m     \u001b[0;32melse\u001b[0m\u001b[0;34m:\u001b[0m\u001b[0;34m\u001b[0m\u001b[0m\n\u001b[1;32m   1330\u001b[0m       \u001b[0;32mreturn\u001b[0m \u001b[0mself\u001b[0m\u001b[0;34m.\u001b[0m\u001b[0m_do_call\u001b[0m\u001b[0;34m(\u001b[0m\u001b[0m_prun_fn\u001b[0m\u001b[0;34m,\u001b[0m \u001b[0mhandle\u001b[0m\u001b[0;34m,\u001b[0m \u001b[0mfeeds\u001b[0m\u001b[0;34m,\u001b[0m \u001b[0mfetches\u001b[0m\u001b[0;34m)\u001b[0m\u001b[0;34m\u001b[0m\u001b[0m\n",
      "\u001b[0;32m/usr/local/lib/python3.5/dist-packages/tensorflow/python/client/session.py\u001b[0m in \u001b[0;36m_do_call\u001b[0;34m(self, fn, *args)\u001b[0m\n\u001b[1;32m   1346\u001b[0m           \u001b[0;32mpass\u001b[0m\u001b[0;34m\u001b[0m\u001b[0m\n\u001b[1;32m   1347\u001b[0m       \u001b[0mmessage\u001b[0m \u001b[0;34m=\u001b[0m \u001b[0merror_interpolation\u001b[0m\u001b[0;34m.\u001b[0m\u001b[0minterpolate\u001b[0m\u001b[0;34m(\u001b[0m\u001b[0mmessage\u001b[0m\u001b[0;34m,\u001b[0m \u001b[0mself\u001b[0m\u001b[0;34m.\u001b[0m\u001b[0m_graph\u001b[0m\u001b[0;34m)\u001b[0m\u001b[0;34m\u001b[0m\u001b[0m\n\u001b[0;32m-> 1348\u001b[0;31m       \u001b[0;32mraise\u001b[0m \u001b[0mtype\u001b[0m\u001b[0;34m(\u001b[0m\u001b[0me\u001b[0m\u001b[0;34m)\u001b[0m\u001b[0;34m(\u001b[0m\u001b[0mnode_def\u001b[0m\u001b[0;34m,\u001b[0m \u001b[0mop\u001b[0m\u001b[0;34m,\u001b[0m \u001b[0mmessage\u001b[0m\u001b[0;34m)\u001b[0m\u001b[0;34m\u001b[0m\u001b[0m\n\u001b[0m\u001b[1;32m   1349\u001b[0m \u001b[0;34m\u001b[0m\u001b[0m\n\u001b[1;32m   1350\u001b[0m   \u001b[0;32mdef\u001b[0m \u001b[0m_extend_graph\u001b[0m\u001b[0;34m(\u001b[0m\u001b[0mself\u001b[0m\u001b[0;34m)\u001b[0m\u001b[0;34m:\u001b[0m\u001b[0;34m\u001b[0m\u001b[0m\n",
      "\u001b[0;31mInvalidArgumentError\u001b[0m: slice index 5 of dimension 0 out of bounds.\n\t [[node DigitCaps/routing/strided_slice_10 (defined at /home/josechavez_ie/src/repos/capsnet-tensorflow/capsules.py:124) ]]\n\t [[node Masking/y_pred (defined at /home/josechavez_ie/src/repos/capsnet-tensorflow/capsnet.py:95) ]]\n\nCaused by op 'DigitCaps/routing/strided_slice_10', defined at:\n  File \"/usr/lib/python3.5/runpy.py\", line 193, in _run_module_as_main\n    \"__main__\", mod_spec)\n  File \"/usr/lib/python3.5/runpy.py\", line 85, in _run_code\n    exec(code, run_globals)\n  File \"/usr/local/lib/python3.5/dist-packages/ipykernel_launcher.py\", line 16, in <module>\n    app.launch_new_instance()\n  File \"/usr/local/lib/python3.5/dist-packages/traitlets/config/application.py\", line 658, in launch_instance\n    app.start()\n  File \"/usr/local/lib/python3.5/dist-packages/ipykernel/kernelapp.py\", line 505, in start\n    self.io_loop.start()\n  File \"/usr/local/lib/python3.5/dist-packages/tornado/platform/asyncio.py\", line 132, in start\n    self.asyncio_loop.run_forever()\n  File \"/usr/lib/python3.5/asyncio/base_events.py\", line 421, in run_forever\n    self._run_once()\n  File \"/usr/lib/python3.5/asyncio/base_events.py\", line 1424, in _run_once\n    handle._run()\n  File \"/usr/lib/python3.5/asyncio/events.py\", line 126, in _run\n    self._callback(*self._args)\n  File \"/usr/local/lib/python3.5/dist-packages/tornado/ioloop.py\", line 758, in _run_callback\n    ret = callback()\n  File \"/usr/local/lib/python3.5/dist-packages/tornado/stack_context.py\", line 300, in null_wrapper\n    return fn(*args, **kwargs)\n  File \"/usr/local/lib/python3.5/dist-packages/tornado/gen.py\", line 1233, in inner\n    self.run()\n  File \"/usr/local/lib/python3.5/dist-packages/tornado/gen.py\", line 1147, in run\n    yielded = self.gen.send(value)\n  File \"/usr/local/lib/python3.5/dist-packages/ipykernel/kernelbase.py\", line 357, in process_one\n    yield gen.maybe_future(dispatch(*args))\n  File \"/usr/local/lib/python3.5/dist-packages/tornado/gen.py\", line 326, in wrapper\n    yielded = next(result)\n  File \"/usr/local/lib/python3.5/dist-packages/ipykernel/kernelbase.py\", line 267, in dispatch_shell\n    yield gen.maybe_future(handler(stream, idents, msg))\n  File \"/usr/local/lib/python3.5/dist-packages/tornado/gen.py\", line 326, in wrapper\n    yielded = next(result)\n  File \"/usr/local/lib/python3.5/dist-packages/ipykernel/kernelbase.py\", line 534, in execute_request\n    user_expressions, allow_stdin,\n  File \"/usr/local/lib/python3.5/dist-packages/tornado/gen.py\", line 326, in wrapper\n    yielded = next(result)\n  File \"/usr/local/lib/python3.5/dist-packages/ipykernel/ipkernel.py\", line 294, in do_execute\n    res = shell.run_cell(code, store_history=store_history, silent=silent)\n  File \"/usr/local/lib/python3.5/dist-packages/ipykernel/zmqshell.py\", line 536, in run_cell\n    return super(ZMQInteractiveShell, self).run_cell(*args, **kwargs)\n  File \"/usr/local/lib/python3.5/dist-packages/IPython/core/interactiveshell.py\", line 2848, in run_cell\n    raw_cell, store_history, silent, shell_futures)\n  File \"/usr/local/lib/python3.5/dist-packages/IPython/core/interactiveshell.py\", line 2874, in _run_cell\n    return runner(coro)\n  File \"/usr/local/lib/python3.5/dist-packages/IPython/core/async_helpers.py\", line 67, in _pseudo_sync_runner\n    coro.send(None)\n  File \"/usr/local/lib/python3.5/dist-packages/IPython/core/interactiveshell.py\", line 3049, in run_cell_async\n    interactivity=interactivity, compiler=compiler, result=result)\n  File \"/usr/local/lib/python3.5/dist-packages/IPython/core/interactiveshell.py\", line 3214, in run_ast_nodes\n    if (yield from self.run_code(code, result)):\n  File \"/usr/local/lib/python3.5/dist-packages/IPython/core/interactiveshell.py\", line 3296, in run_code\n    exec(code_obj, self.user_global_ns, self.user_ns)\n  File \"<ipython-input-6-b1a696136a31>\", line 1, in <module>\n    model = CapsNet(rounds = 3, batch_size = batch_size)\n  File \"/home/josechavez_ie/src/repos/capsnet-tensorflow/capsnet.py\", line 28, in __init__\n    self.build_model()\n  File \"/home/josechavez_ie/src/repos/capsnet-tensorflow/capsnet.py\", line 56, in build_model\n    name        = 'DigitCaps'\n  File \"/home/josechavez_ie/src/repos/capsnet-tensorflow/capsules.py\", line 71, in layer\n    output = self.routing(inputs_tile, inputs.shape.as_list())\n  File \"/home/josechavez_ie/src/repos/capsnet-tensorflow/capsules.py\", line 124, in routing\n    u_ji_k = u_ji[sample_k]                 # [1152, 10, 16]\n  File \"/usr/local/lib/python3.5/dist-packages/tensorflow/python/ops/array_ops.py\", line 654, in _slice_helper\n    name=name)\n  File \"/usr/local/lib/python3.5/dist-packages/tensorflow/python/ops/array_ops.py\", line 820, in strided_slice\n    shrink_axis_mask=shrink_axis_mask)\n  File \"/usr/local/lib/python3.5/dist-packages/tensorflow/python/ops/gen_array_ops.py\", line 9356, in strided_slice\n    shrink_axis_mask=shrink_axis_mask, name=name)\n  File \"/usr/local/lib/python3.5/dist-packages/tensorflow/python/framework/op_def_library.py\", line 788, in _apply_op_helper\n    op_def=op_def)\n  File \"/usr/local/lib/python3.5/dist-packages/tensorflow/python/util/deprecation.py\", line 507, in new_func\n    return func(*args, **kwargs)\n  File \"/usr/local/lib/python3.5/dist-packages/tensorflow/python/framework/ops.py\", line 3300, in create_op\n    op_def=op_def)\n  File \"/usr/local/lib/python3.5/dist-packages/tensorflow/python/framework/ops.py\", line 1801, in __init__\n    self._traceback = tf_stack.extract_stack()\n\nInvalidArgumentError (see above for traceback): slice index 5 of dimension 0 out of bounds.\n\t [[node DigitCaps/routing/strided_slice_10 (defined at /home/josechavez_ie/src/repos/capsnet-tensorflow/capsules.py:124) ]]\n\t [[node Masking/y_pred (defined at /home/josechavez_ie/src/repos/capsnet-tensorflow/capsnet.py:95) ]]\n"
     ]
    }
   ],
   "source": [
    "reconstruction(model, 5)"
   ]
  },
  {
   "cell_type": "code",
   "execution_count": null,
   "metadata": {},
   "outputs": [],
   "source": []
  }
 ],
 "metadata": {
  "kernelspec": {
   "display_name": "Python 3",
   "language": "python",
   "name": "python3"
  },
  "language_info": {
   "codemirror_mode": {
    "name": "ipython",
    "version": 3
   },
   "file_extension": ".py",
   "mimetype": "text/x-python",
   "name": "python",
   "nbconvert_exporter": "python",
   "pygments_lexer": "ipython3",
   "version": "3.5.3"
  }
 },
 "nbformat": 4,
 "nbformat_minor": 2
}
