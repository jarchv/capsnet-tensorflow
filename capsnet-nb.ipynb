{
 "cells": [
  {
   "cell_type": "code",
   "execution_count": 1,
   "metadata": {},
   "outputs": [
    {
     "name": "stdout",
     "output_type": "stream",
     "text": [
      "WARNING:tensorflow:From <ipython-input-1-9a9541bbef15>:9: read_data_sets (from tensorflow.contrib.learn.python.learn.datasets.mnist) is deprecated and will be removed in a future version.\n",
      "Instructions for updating:\n",
      "Please use alternatives such as official/mnist/dataset.py from tensorflow/models.\n",
      "WARNING:tensorflow:From /usr/local/lib/python3.5/dist-packages/tensorflow/contrib/learn/python/learn/datasets/mnist.py:260: maybe_download (from tensorflow.contrib.learn.python.learn.datasets.base) is deprecated and will be removed in a future version.\n",
      "Instructions for updating:\n",
      "Please write your own downloading logic.\n",
      "WARNING:tensorflow:From /usr/local/lib/python3.5/dist-packages/tensorflow/contrib/learn/python/learn/datasets/mnist.py:262: extract_images (from tensorflow.contrib.learn.python.learn.datasets.mnist) is deprecated and will be removed in a future version.\n",
      "Instructions for updating:\n",
      "Please use tf.data to implement this functionality.\n",
      "Extracting MNIST_data/train-images-idx3-ubyte.gz\n",
      "WARNING:tensorflow:From /usr/local/lib/python3.5/dist-packages/tensorflow/contrib/learn/python/learn/datasets/mnist.py:267: extract_labels (from tensorflow.contrib.learn.python.learn.datasets.mnist) is deprecated and will be removed in a future version.\n",
      "Instructions for updating:\n",
      "Please use tf.data to implement this functionality.\n",
      "Extracting MNIST_data/train-labels-idx1-ubyte.gz\n",
      "Extracting MNIST_data/t10k-images-idx3-ubyte.gz\n",
      "Extracting MNIST_data/t10k-labels-idx1-ubyte.gz\n",
      "WARNING:tensorflow:From /usr/local/lib/python3.5/dist-packages/tensorflow/contrib/learn/python/learn/datasets/mnist.py:290: DataSet.__init__ (from tensorflow.contrib.learn.python.learn.datasets.mnist) is deprecated and will be removed in a future version.\n",
      "Instructions for updating:\n",
      "Please use alternatives such as official/mnist/dataset.py from tensorflow/models.\n"
     ]
    }
   ],
   "source": [
    "import tensorflow as tf\n",
    "import numpy as np\n",
    "import matplotlib.pyplot as plt\n",
    "\n",
    "from capsnet import CapsNet\n",
    "\n",
    "from tensorflow.examples.tutorials.mnist import input_data\n",
    "\n",
    "mnist = input_data.read_data_sets('MNIST_data/')\n",
    "batch_size = 128"
   ]
  },
  {
   "cell_type": "code",
   "execution_count": 2,
   "metadata": {},
   "outputs": [],
   "source": [
    "tf.reset_default_graph()"
   ]
  },
  {
   "cell_type": "code",
   "execution_count": 3,
   "metadata": {},
   "outputs": [],
   "source": [
    "tf.random.set_random_seed(0)\n",
    "np.random.seed(0)"
   ]
  },
  {
   "cell_type": "code",
   "execution_count": 4,
   "metadata": {},
   "outputs": [],
   "source": [
    "checkpoint_file = './tmp/model.ckpt'"
   ]
  },
  {
   "cell_type": "code",
   "execution_count": 5,
   "metadata": {},
   "outputs": [],
   "source": [
    "def train(model, restore = False, n_epochs = 50):\n",
    "    init = tf.global_variables_initializer()\t\n",
    "\n",
    "    n_iter_train_per_epoch = mnist.train.num_examples // batch_size\n",
    "    n_iter_valid_per_epoch = mnist.validation.num_examples // batch_size\n",
    "\n",
    "    best_loss_val = np.infty\n",
    "    \n",
    "    saver = tf.train.Saver()\n",
    "    \n",
    "    with tf.Session() as sess:\n",
    "        writer = tf.summary.FileWriter(\"output\", sess.graph)\n",
    "\n",
    "        if restore and tf.train.checkpoint_exists('checkpoint_file'):\n",
    "            saver.restore(sess, checkpoint_file)\n",
    "        else:\n",
    "            init.run()\n",
    "\n",
    "        print('\\n\\nRunning CapsNet ...\\n')\n",
    "        for epoch in range(n_epochs):\n",
    "            loss_train_ep = []\n",
    "            acc_train_ep  = []\n",
    "            for it in range(1, n_iter_train_per_epoch + 1):\n",
    "                X_batch, y_batch = mnist.train.next_batch(batch_size)\n",
    "\n",
    "                _, loss_batch_train, acc_batch_train = sess.run(\n",
    "                                [model.train_op, model.batch_loss, model.accuracy],\n",
    "                                feed_dict = {model.X: X_batch.reshape([-1, 28, 28, 1]),\n",
    "                                                model.y: y_batch,\n",
    "                                                model.reconstruction: True})\n",
    "\n",
    "                print(\"\\rIter: {}/{} [{:.1f}%] loss : {:.5f}\".format(\n",
    "                    it, n_iter_train_per_epoch, 100.0 * it / n_iter_train_per_epoch, loss_batch_train), end=\"\")\n",
    "\n",
    "                loss_train_ep.append(loss_batch_train)\n",
    "                acc_train_ep.append(acc_batch_train)\n",
    "            loss_train = np.mean(loss_train_ep)\n",
    "            acc_train = np.mean(acc_train_ep)\n",
    "            \n",
    "            loss_val_ep = []\n",
    "            acc_val_ep  = []\n",
    "\n",
    "            for it in range(1, n_iter_valid_per_epoch + 1):\n",
    "                X_batch, y_batch = mnist.validation.next_batch(batch_size)\n",
    "                loss_batch_val, acc_batch_val = sess.run(\n",
    "                                [model.batch_loss, model.accuracy],\n",
    "                                feed_dict = {model.X_cropped: X_batch.reshape([-1, 28, 28, 1]),\n",
    "                                                model.y: y_batch})\n",
    "\n",
    "                loss_val_ep.append(loss_batch_val)\n",
    "                acc_val_ep.append(acc_batch_val)\n",
    "\n",
    "                print(\"\\rValidation {}/{} {:.1f}%\".format(it, n_iter_valid_per_epoch, 100.0 * it / n_iter_valid_per_epoch), end=\" \"*30)\n",
    "\n",
    "            loss_val = np.mean(loss_val_ep)\n",
    "            acc_val  = np.mean(acc_val_ep)\n",
    "\n",
    "            print(\"\\repoch: {} loss_train: {:.5f}, loss_val: {:.5f}, train_acc: {:.4f}%, valid_acc: {:.4f}% {}\".format(\n",
    "                epoch + 1, loss_train, loss_val, acc_train * 100.0, acc_val * 100.0, \"(improved)\" if loss_val < best_loss_val else \"\"))\n",
    "\n",
    "            if loss_val < best_loss_val:\n",
    "                best_loss_val = loss_val\n",
    "            saver.save(sess, checkpoint_file)\n",
    "            \n",
    "\n",
    "        writer.close()"
   ]
  },
  {
   "cell_type": "code",
   "execution_count": 6,
   "metadata": {},
   "outputs": [
    {
     "name": "stdout",
     "output_type": "stream",
     "text": [
      "WARNING:tensorflow:From /usr/local/lib/python3.5/dist-packages/tensorflow/python/ops/control_flow_ops.py:3632: colocate_with (from tensorflow.python.framework.ops) is deprecated and will be removed in a future version.\n",
      "Instructions for updating:\n",
      "Colocations handled automatically by placer.\n",
      "WARNING:tensorflow:From /home/josechavez_ie/src/repos/capsnet-tensorflow/capsules.py:30: conv2d (from tensorflow.python.layers.convolutional) is deprecated and will be removed in a future version.\n",
      "Instructions for updating:\n",
      "Use keras.layers.conv2d instead.\n",
      "WARNING:tensorflow:From /home/josechavez_ie/src/repos/capsnet-tensorflow/capsnet.py:109: dense (from tensorflow.python.layers.core) is deprecated and will be removed in a future version.\n",
      "Instructions for updating:\n",
      "Use keras.layers.dense instead.\n",
      "WARNING:tensorflow:From /usr/local/lib/python3.5/dist-packages/tensorflow/python/ops/math_ops.py:3066: to_int32 (from tensorflow.python.ops.math_ops) is deprecated and will be removed in a future version.\n",
      "Instructions for updating:\n",
      "Use tf.cast instead.\n"
     ]
    }
   ],
   "source": [
    "model = CapsNet(rounds = 3)"
   ]
  },
  {
   "cell_type": "code",
   "execution_count": 7,
   "metadata": {},
   "outputs": [
    {
     "name": "stdout",
     "output_type": "stream",
     "text": [
      "\n",
      "\n",
      "Running CapsNet ...\n",
      "\n",
      "epoch: 1 loss_train: 0.12318, loss_val: 0.03714, train_acc: 88.5672%, valid_acc: 98.4375% (improved)\n",
      "epoch: 2 loss_train: 0.03919, loss_val: 0.02748, train_acc: 98.2900%, valid_acc: 98.9583% (improved)\n",
      "epoch: 3 loss_train: 0.02951, loss_val: 0.02281, train_acc: 98.8910%, valid_acc: 99.2388% (improved)\n",
      "epoch: 4 loss_train: 0.02516, loss_val: 0.01940, train_acc: 99.0712%, valid_acc: 99.4391% (improved)\n",
      "epoch: 5 loss_train: 0.02151, loss_val: 0.01930, train_acc: 99.2679%, valid_acc: 99.2788% (improved)\n",
      "epoch: 6 loss_train: 0.01960, loss_val: 0.01635, train_acc: 99.3863%, valid_acc: 99.4191% (improved)\n",
      "epoch: 7 loss_train: 0.01759, loss_val: 0.01480, train_acc: 99.4883%, valid_acc: 99.3590% (improved)\n",
      "epoch: 8 loss_train: 0.01634, loss_val: 0.01386, train_acc: 99.5684%, valid_acc: 99.4992% (improved)\n",
      "epoch: 9 loss_train: 0.01564, loss_val: 0.01563, train_acc: 99.5830%, valid_acc: 99.4391% \n",
      "epoch: 10 loss_train: 0.01460, loss_val: 0.01289, train_acc: 99.6467%, valid_acc: 99.5393% (improved)\n",
      "epoch: 11 loss_train: 0.01383, loss_val: 0.01287, train_acc: 99.6376%, valid_acc: 99.5192% (improved)\n",
      "epoch: 12 loss_train: 0.01323, loss_val: 0.01185, train_acc: 99.6522%, valid_acc: 99.5994% (improved)\n",
      "epoch: 13 loss_train: 0.01183, loss_val: 0.01170, train_acc: 99.7742%, valid_acc: 99.5593% (improved)\n",
      "epoch: 14 loss_train: 0.01191, loss_val: 0.01178, train_acc: 99.7487%, valid_acc: 99.6194% \n",
      "epoch: 15 loss_train: 0.01111, loss_val: 0.01081, train_acc: 99.8015%, valid_acc: 99.6194% (improved)\n",
      "epoch: 16 loss_train: 0.01088, loss_val: 0.01103, train_acc: 99.7924%, valid_acc: 99.6194% \n",
      "epoch: 17 loss_train: 0.01042, loss_val: 0.01155, train_acc: 99.8306%, valid_acc: 99.4992% \n",
      "epoch: 18 loss_train: 0.01025, loss_val: 0.01006, train_acc: 99.8033%, valid_acc: 99.6194% (improved)\n",
      "epoch: 19 loss_train: 0.00960, loss_val: 0.01030, train_acc: 99.8488%, valid_acc: 99.4591% \n",
      "epoch: 20 loss_train: 0.00937, loss_val: 0.01010, train_acc: 99.8671%, valid_acc: 99.5593% \n",
      "epoch: 21 loss_train: 0.00913, loss_val: 0.00993, train_acc: 99.8707%, valid_acc: 99.5593% (improved)\n",
      "epoch: 22 loss_train: 0.00881, loss_val: 0.01042, train_acc: 99.8816%, valid_acc: 99.4391% \n",
      "epoch: 23 loss_train: 0.00854, loss_val: 0.00972, train_acc: 99.9144%, valid_acc: 99.5793% (improved)\n",
      "epoch: 24 loss_train: 0.00804, loss_val: 0.00966, train_acc: 99.9053%, valid_acc: 99.5593% (improved)\n",
      "epoch: 25 loss_train: 0.00810, loss_val: 0.00988, train_acc: 99.8944%, valid_acc: 99.3990% \n",
      "epoch: 26 loss_train: 0.00780, loss_val: 0.00984, train_acc: 99.9108%, valid_acc: 99.5593% \n",
      "epoch: 27 loss_train: 0.00773, loss_val: 0.01009, train_acc: 99.9272%, valid_acc: 99.4792% \n",
      "epoch: 28 loss_train: 0.00755, loss_val: 0.00900, train_acc: 99.9253%, valid_acc: 99.6194% (improved)\n",
      "epoch: 29 loss_train: 0.00722, loss_val: 0.00899, train_acc: 99.9454%, valid_acc: 99.6394% (improved)\n",
      "epoch: 30 loss_train: 0.00730, loss_val: 0.00905, train_acc: 99.9363%, valid_acc: 99.6394% \n",
      "epoch: 31 loss_train: 0.00704, loss_val: 0.00913, train_acc: 99.9381%, valid_acc: 99.4591% \n",
      "epoch: 32 loss_train: 0.00694, loss_val: 0.00866, train_acc: 99.9508%, valid_acc: 99.4992% (improved)\n",
      "epoch: 33 loss_train: 0.00688, loss_val: 0.00893, train_acc: 99.9599%, valid_acc: 99.5593% \n",
      "epoch: 34 loss_train: 0.00677, loss_val: 0.01022, train_acc: 99.9454%, valid_acc: 99.3790% \n",
      "epoch: 35 loss_train: 0.00642, loss_val: 0.00905, train_acc: 99.9581%, valid_acc: 99.5192% \n",
      "epoch: 36 loss_train: 0.00642, loss_val: 0.00928, train_acc: 99.9581%, valid_acc: 99.5393% \n",
      "epoch: 37 loss_train: 0.00639, loss_val: 0.00853, train_acc: 99.9672%, valid_acc: 99.6394% (improved)\n",
      "epoch: 38 loss_train: 0.00641, loss_val: 0.00898, train_acc: 99.9527%, valid_acc: 99.5192% \n",
      "epoch: 39 loss_train: 0.00623, loss_val: 0.00889, train_acc: 99.9563%, valid_acc: 99.5793% \n",
      "epoch: 40 loss_train: 0.00597, loss_val: 0.00882, train_acc: 99.9672%, valid_acc: 99.4992% \n",
      "epoch: 41 loss_train: 0.00598, loss_val: 0.00869, train_acc: 99.9709%, valid_acc: 99.4792% \n",
      "epoch: 42 loss_train: 0.00590, loss_val: 0.00794, train_acc: 99.9727%, valid_acc: 99.5994% (improved)\n",
      "epoch: 43 loss_train: 0.00587, loss_val: 0.00845, train_acc: 99.9636%, valid_acc: 99.5192% \n",
      "epoch: 44 loss_train: 0.00583, loss_val: 0.00869, train_acc: 99.9763%, valid_acc: 99.6394% \n",
      "epoch: 45 loss_train: 0.00562, loss_val: 0.00894, train_acc: 99.9818%, valid_acc: 99.4992% \n",
      "epoch: 46 loss_train: 0.00567, loss_val: 0.00847, train_acc: 99.9763%, valid_acc: 99.4992% \n",
      "epoch: 47 loss_train: 0.00573, loss_val: 0.00790, train_acc: 99.9672%, valid_acc: 99.5994% (improved)\n",
      "epoch: 48 loss_train: 0.00554, loss_val: 0.00927, train_acc: 99.9745%, valid_acc: 99.3990% \n",
      "epoch: 49 loss_train: 0.00544, loss_val: 0.00811, train_acc: 99.9836%, valid_acc: 99.5994% \n",
      "epoch: 50 loss_train: 0.00538, loss_val: 0.00900, train_acc: 99.9763%, valid_acc: 99.5192% \n"
     ]
    }
   ],
   "source": [
    "train(model, False, 50)"
   ]
  },
  {
   "cell_type": "code",
   "execution_count": 8,
   "metadata": {},
   "outputs": [],
   "source": [
    "def test(model):\n",
    "    batch_size = 100\n",
    "\n",
    "    n_iter_test_per_epoch = mnist.test.num_examples // batch_size\n",
    "\n",
    "    loss_test_ep = []\n",
    "    acc_test_ep  = []\n",
    "    \n",
    "    with tf.Session() as sess:\n",
    "        saver = tf.train.import_meta_graph(checkpoint_file +'.meta')\n",
    "        saver.restore(sess, tf.train.latest_checkpoint('tmp/'))\n",
    "        \n",
    "        print(\"\\n\")\n",
    "        for it in range(1, n_iter_test_per_epoch + 1):\n",
    "            X_batch, y_batch = mnist.test.next_batch(batch_size)\n",
    "            loss_batch_test, acc_batch_test = sess.run(\n",
    "                [model.batch_loss, model.accuracy],\n",
    "                    feed_dict = {model.X_cropped: X_batch.reshape([-1, 28, 28, 1]),\n",
    "                                model.y: y_batch,\n",
    "                                model.reconstruction: False})\n",
    "\n",
    "            loss_test_ep.append(loss_batch_test)\n",
    "            acc_test_ep.append(acc_batch_test)\n",
    "            print(\"\\rTesting {}/{} {:.1f}%\".format(it, n_iter_test_per_epoch, 100.0 * it / n_iter_test_per_epoch), end=\" \"*30)\t\n",
    "\n",
    "        loss_test = np.mean(loss_test_ep)\n",
    "        acc_test  = np.mean(acc_test_ep)\n",
    "\n",
    "        print(\"\\r(Testing) accuracy: {:.3f}%, loss: {:.4f}\".format(acc_test*100.0, loss_test))"
   ]
  },
  {
   "cell_type": "code",
   "execution_count": 9,
   "metadata": {},
   "outputs": [
    {
     "name": "stdout",
     "output_type": "stream",
     "text": [
      "WARNING:tensorflow:From /usr/local/lib/python3.5/dist-packages/tensorflow/python/training/saver.py:1266: checkpoint_exists (from tensorflow.python.training.checkpoint_management) is deprecated and will be removed in a future version.\n",
      "Instructions for updating:\n",
      "Use standard file APIs to check for files with this prefix.\n",
      "INFO:tensorflow:Restoring parameters from tmp/model.ckpt\n",
      "\n",
      "\n",
      "(Testing) accuracy: 99.560%, loss: 0.0090           \n"
     ]
    }
   ],
   "source": [
    "test(model)"
   ]
  },
  {
   "cell_type": "code",
   "execution_count": 10,
   "metadata": {},
   "outputs": [],
   "source": [
    "def reconstruction(model, num_samples):\n",
    "    samples_imgs = mnist.test.images[:num_samples].reshape([-1, 28, 28, 1])\n",
    "\n",
    "    with tf.Session() as sess:\n",
    "        saver = tf.train.import_meta_graph(checkpoint_file +'.meta')\n",
    "        saver.restore(sess, tf.train.latest_checkpoint('tmp/'))\n",
    "\n",
    "        decoder_output, y_pred_value = sess.run(\n",
    "            [model.decoder_output, model.y_pred],\n",
    "            feed_dict = {model.X: samples_imgs})\n",
    "\n",
    "\n",
    "    samples_imgs = samples_imgs.reshape([-1, 28, 28])\n",
    "    reconstructions_imgs = decoder_output.reshape([-1, 28, 28])\t\n",
    "\n",
    "    plt.figure(figsize = (num_samples * 2, 4))\n",
    "\n",
    "    for img_idx in range(num_samples):\n",
    "        plt.subplot(2, num_samples, img_idx + 1)\n",
    "        plt.imshow(samples_imgs[img_idx], cmap='gray')\n",
    "        plt.title(\"Input: \" + str(mnist.test.labels[img_idx]))\n",
    "        plt.axis(\"off\")\n",
    "\n",
    "    for img_idx in range(num_samples):\n",
    "        plt.subplot(2, num_samples, num_samples + img_idx + 1)\n",
    "        plt.imshow(reconstructions_imgs[img_idx], cmap='gray')\n",
    "        plt.title(\"Output: \" + str(y_pred_value[img_idx]))\n",
    "        plt.axis(\"off\")\n",
    "\n",
    "plt.show()"
   ]
  },
  {
   "cell_type": "code",
   "execution_count": 11,
   "metadata": {},
   "outputs": [
    {
     "name": "stdout",
     "output_type": "stream",
     "text": [
      "INFO:tensorflow:Restoring parameters from tmp/model.ckpt\n"
     ]
    },
    {
     "data": {
      "image/png": "[encoded data removed]",
      "text/plain": [
       "<Figure size 720x288 with 10 Axes>"
      ]
     },
     "metadata": {
      "needs_background": "light"
     },
     "output_type": "display_data"
    }
   ],
   "source": [
    "reconstruction(model, 5)"
   ]
  },
  {
   "cell_type": "code",
   "execution_count": null,
   "metadata": {},
   "outputs": [],
   "source": []
  }
 ],
 "metadata": {
  "kernelspec": {
   "display_name": "Python 3",
   "language": "python",
   "name": "python3"
  },
  "language_info": {
   "codemirror_mode": {
    "name": "ipython",
    "version": 3
   },
   "file_extension": ".py",
   "mimetype": "text/x-python",
   "name": "python",
   "nbconvert_exporter": "python",
   "pygments_lexer": "ipython3",
   "version": "3.5.3"
  }
 },
 "nbformat": 4,
 "nbformat_minor": 2
}
