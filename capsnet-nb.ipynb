{
 "cells": [
  {
   "cell_type": "code",
   "execution_count": 1,
   "metadata": {},
   "outputs": [
    {
     "name": "stdout",
     "output_type": "stream",
     "text": [
      "WARNING:tensorflow:From <ipython-input-1-711362ec6410>:9: read_data_sets (from tensorflow.contrib.learn.python.learn.datasets.mnist) is deprecated and will be removed in a future version.\n",
      "Instructions for updating:\n",
      "Please use alternatives such as official/mnist/dataset.py from tensorflow/models.\n",
      "WARNING:tensorflow:From /usr/local/lib/python3.5/dist-packages/tensorflow/contrib/learn/python/learn/datasets/mnist.py:260: maybe_download (from tensorflow.contrib.learn.python.learn.datasets.base) is deprecated and will be removed in a future version.\n",
      "Instructions for updating:\n",
      "Please write your own downloading logic.\n",
      "WARNING:tensorflow:From /usr/local/lib/python3.5/dist-packages/tensorflow/contrib/learn/python/learn/datasets/mnist.py:262: extract_images (from tensorflow.contrib.learn.python.learn.datasets.mnist) is deprecated and will be removed in a future version.\n",
      "Instructions for updating:\n",
      "Please use tf.data to implement this functionality.\n",
      "Extracting MNIST_data/train-images-idx3-ubyte.gz\n",
      "WARNING:tensorflow:From /usr/local/lib/python3.5/dist-packages/tensorflow/contrib/learn/python/learn/datasets/mnist.py:267: extract_labels (from tensorflow.contrib.learn.python.learn.datasets.mnist) is deprecated and will be removed in a future version.\n",
      "Instructions for updating:\n",
      "Please use tf.data to implement this functionality.\n",
      "Extracting MNIST_data/train-labels-idx1-ubyte.gz\n",
      "Extracting MNIST_data/t10k-images-idx3-ubyte.gz\n",
      "Extracting MNIST_data/t10k-labels-idx1-ubyte.gz\n",
      "WARNING:tensorflow:From /usr/local/lib/python3.5/dist-packages/tensorflow/contrib/learn/python/learn/datasets/mnist.py:290: DataSet.__init__ (from tensorflow.contrib.learn.python.learn.datasets.mnist) is deprecated and will be removed in a future version.\n",
      "Instructions for updating:\n",
      "Please use alternatives such as official/mnist/dataset.py from tensorflow/models.\n"
     ]
    }
   ],
   "source": [
    "import tensorflow as tf\n",
    "import numpy as np\n",
    "import matplotlib.pyplot as plt\n",
    "\n",
    "from capsnet import CapsNet\n",
    "\n",
    "from tensorflow.examples.tutorials.mnist import input_data\n",
    "\n",
    "mnist = input_data.read_data_sets('MNIST_data/')\n",
    "batch_size = 100"
   ]
  },
  {
   "cell_type": "code",
   "execution_count": 2,
   "metadata": {},
   "outputs": [],
   "source": [
    "tf.reset_default_graph()"
   ]
  },
  {
   "cell_type": "code",
   "execution_count": 3,
   "metadata": {},
   "outputs": [],
   "source": [
    "tf.random.set_random_seed(0)\n",
    "np.random.seed(0)"
   ]
  },
  {
   "cell_type": "code",
   "execution_count": 4,
   "metadata": {},
   "outputs": [],
   "source": [
    "checkpoint_file = './tmp/model.ckpt'"
   ]
  },
  {
   "cell_type": "code",
   "execution_count": 5,
   "metadata": {},
   "outputs": [],
   "source": [
    "def train(model, restore = False, n_epochs = 50):\n",
    "    init = tf.global_variables_initializer()\t\n",
    "\n",
    "    n_iter_train_per_epoch = mnist.train.num_examples // batch_size\n",
    "    n_iter_valid_per_epoch = mnist.validation.num_examples // batch_size\n",
    "\n",
    "    best_loss_val = np.infty\n",
    "    \n",
    "    saver = tf.train.Saver()\n",
    "    \n",
    "    with tf.Session() as sess:\n",
    "        writer = tf.summary.FileWriter(\"output\", sess.graph)\n",
    "\n",
    "        if restore and tf.train.checkpoint_exists('checkpoint_file'):\n",
    "            saver.restore(sess, checkpoint_file)\n",
    "        else:\n",
    "            init.run()\n",
    "\n",
    "        print('\\n\\nRunning CapsNet ...\\n')\n",
    "        for epoch in range(n_epochs):\n",
    "            loss_train_ep = []\n",
    "            acc_train_ep  = []\n",
    "            for it in range(1, n_iter_train_per_epoch + 1):\n",
    "                X_batch, y_batch = mnist.train.next_batch(batch_size)\n",
    "\n",
    "                _, loss_batch_train, acc_batch_train = sess.run(\n",
    "                                [model.train_op, model.batch_loss, model.accuracy],\n",
    "                                feed_dict = {model.X: X_batch.reshape([-1, 28, 28, 1]),\n",
    "                                                model.y: y_batch,\n",
    "                                                model.reconstruction: True})\n",
    "\n",
    "                print(\"\\rIter: {}/{} [{:.1f}%] loss : {:.5f}\".format(\n",
    "                    it, n_iter_train_per_epoch, 100.0 * it / n_iter_train_per_epoch, loss_batch_train), end=\"\")\n",
    "\n",
    "                loss_train_ep.append(loss_batch_train)\n",
    "                acc_train_ep.append(acc_batch_train)\n",
    "            loss_train = np.mean(loss_train_ep)\n",
    "            acc_train = np.mean(acc_train_ep)\n",
    "            \n",
    "            loss_val_ep = []\n",
    "            acc_val_ep  = []\n",
    "\n",
    "            for it in range(1, n_iter_valid_per_epoch + 1):\n",
    "                X_batch, y_batch = mnist.validation.next_batch(batch_size)\n",
    "                loss_batch_val, acc_batch_val = sess.run(\n",
    "                                [model.batch_loss, model.accuracy],\n",
    "                                feed_dict = {model.X_cropped: X_batch.reshape([-1, 28, 28, 1]),\n",
    "                                                model.y: y_batch})\n",
    "\n",
    "                loss_val_ep.append(loss_batch_val)\n",
    "                acc_val_ep.append(acc_batch_val)\n",
    "\n",
    "                print(\"\\rValidation {}/{} {:.1f}%\".format(it, n_iter_valid_per_epoch, 100.0 * it / n_iter_valid_per_epoch), end=\" \"*30)\n",
    "\n",
    "            loss_val = np.mean(loss_val_ep)\n",
    "            acc_val  = np.mean(acc_val_ep)\n",
    "\n",
    "            print(\"\\repoch: {} loss_train: {:.5f}, loss_val: {:.5f}, train_acc: {:.4f}%, valid_acc: {:.4f}% {}\".format(\n",
    "                epoch + 1, loss_train, loss_val, acc_train * 100.0, acc_val * 100.0, \"(improved)\" if loss_val < best_loss_val else \"\"))\n",
    "\n",
    "            if loss_val < best_loss_val:\n",
    "                best_loss_val = loss_val\n",
    "            saver.save(sess, checkpoint_file)\n",
    "            \n",
    "\n",
    "        writer.close()"
   ]
  },
  {
   "cell_type": "code",
   "execution_count": 6,
   "metadata": {},
   "outputs": [
    {
     "name": "stdout",
     "output_type": "stream",
     "text": [
      "WARNING:tensorflow:From /usr/local/lib/python3.5/dist-packages/tensorflow/python/ops/control_flow_ops.py:3632: colocate_with (from tensorflow.python.framework.ops) is deprecated and will be removed in a future version.\n",
      "Instructions for updating:\n",
      "Colocations handled automatically by placer.\n",
      "WARNING:tensorflow:From /home/josechavez_ie/src/repos/capsnet-tensorflow/capsules.py:30: conv2d (from tensorflow.python.layers.convolutional) is deprecated and will be removed in a future version.\n",
      "Instructions for updating:\n",
      "Use keras.layers.conv2d instead.\n",
      "==>1\n",
      "==>2\n",
      "WARNING:tensorflow:From /home/josechavez_ie/src/repos/capsnet-tensorflow/capsnet.py:126: dense (from tensorflow.python.layers.core) is deprecated and will be removed in a future version.\n",
      "Instructions for updating:\n",
      "Use keras.layers.dense instead.\n",
      "WARNING:tensorflow:From /usr/local/lib/python3.5/dist-packages/tensorflow/python/ops/math_ops.py:3066: to_int32 (from tensorflow.python.ops.math_ops) is deprecated and will be removed in a future version.\n",
      "Instructions for updating:\n",
      "Use tf.cast instead.\n"
     ]
    }
   ],
   "source": [
    "model = CapsNet(rounds = 3)"
   ]
  },
  {
   "cell_type": "code",
   "execution_count": 7,
   "metadata": {},
   "outputs": [
    {
     "name": "stdout",
     "output_type": "stream",
     "text": [
      "\n",
      "\n",
      "Running CapsNet ...\n",
      "\n",
      "epoch: 1 loss_train: 0.15230, loss_val: 0.04156, train_acc: 86.3273%, valid_acc: 98.6000% (improved)\n",
      "epoch: 2 loss_train: 0.04498, loss_val: 0.03249, train_acc: 98.2273%, valid_acc: 98.9000% (improved)\n",
      "epoch: 3 loss_train: 0.03562, loss_val: 0.02795, train_acc: 98.7491%, valid_acc: 99.1600% (improved)\n",
      "epoch: 4 loss_train: 0.03001, loss_val: 0.02591, train_acc: 99.0255%, valid_acc: 99.1800% (improved)\n",
      "epoch: 5 loss_train: 0.02700, loss_val: 0.02382, train_acc: 99.2273%, valid_acc: 99.1800% (improved)\n",
      "epoch: 6 loss_train: 0.02386, loss_val: 0.02030, train_acc: 99.3545%, valid_acc: 99.3200% (improved)\n",
      "epoch: 7 loss_train: 0.02174, loss_val: 0.01937, train_acc: 99.4182%, valid_acc: 99.4800% (improved)\n",
      "epoch: 8 loss_train: 0.01982, loss_val: 0.01750, train_acc: 99.4909%, valid_acc: 99.5000% (improved)\n",
      "epoch: 9 loss_train: 0.01832, loss_val: 0.01749, train_acc: 99.5436%, valid_acc: 99.4200% (improved)\n",
      "epoch: 10 loss_train: 0.01708, loss_val: 0.01560, train_acc: 99.6018%, valid_acc: 99.5000% (improved)\n",
      "epoch: 11 loss_train: 0.01635, loss_val: 0.01544, train_acc: 99.6182%, valid_acc: 99.4800% (improved)\n",
      "epoch: 12 loss_train: 0.01518, loss_val: 0.01507, train_acc: 99.6818%, valid_acc: 99.4400% (improved)\n",
      "epoch: 13 loss_train: 0.01431, loss_val: 0.01485, train_acc: 99.7618%, valid_acc: 99.4600% (improved)\n",
      "epoch: 14 loss_train: 0.01398, loss_val: 0.01422, train_acc: 99.7091%, valid_acc: 99.4800% (improved)\n",
      "epoch: 15 loss_train: 0.01294, loss_val: 0.01288, train_acc: 99.7800%, valid_acc: 99.6400% (improved)\n",
      "epoch: 16 loss_train: 0.01237, loss_val: 0.01251, train_acc: 99.8091%, valid_acc: 99.5600% (improved)\n",
      "epoch: 17 loss_train: 0.01178, loss_val: 0.01220, train_acc: 99.8182%, valid_acc: 99.5800% (improved)\n",
      "epoch: 18 loss_train: 0.01137, loss_val: 0.01220, train_acc: 99.8509%, valid_acc: 99.5200% (improved)\n",
      "epoch: 19 loss_train: 0.01097, loss_val: 0.01172, train_acc: 99.8291%, valid_acc: 99.6000% (improved)\n",
      "epoch: 20 loss_train: 0.01044, loss_val: 0.01155, train_acc: 99.8800%, valid_acc: 99.5400% (improved)\n",
      "epoch: 21 loss_train: 0.01006, loss_val: 0.01116, train_acc: 99.8836%, valid_acc: 99.5800% (improved)\n",
      "epoch: 22 loss_train: 0.00963, loss_val: 0.01105, train_acc: 99.9091%, valid_acc: 99.4800% (improved)\n",
      "epoch: 23 loss_train: 0.00948, loss_val: 0.01077, train_acc: 99.9145%, valid_acc: 99.6200% (improved)\n",
      "epoch: 24 loss_train: 0.00904, loss_val: 0.01065, train_acc: 99.9145%, valid_acc: 99.5200% (improved)\n",
      "epoch: 25 loss_train: 0.00896, loss_val: 0.01020, train_acc: 99.9236%, valid_acc: 99.5800% (improved)\n",
      "epoch: 26 loss_train: 0.00868, loss_val: 0.01024, train_acc: 99.9327%, valid_acc: 99.5600% \n",
      "epoch: 27 loss_train: 0.00853, loss_val: 0.01007, train_acc: 99.9254%, valid_acc: 99.6400% (improved)\n",
      "epoch: 28 loss_train: 0.00819, loss_val: 0.00997, train_acc: 99.9400%, valid_acc: 99.5800% (improved)\n",
      "epoch: 29 loss_train: 0.00818, loss_val: 0.00990, train_acc: 99.9400%, valid_acc: 99.6400% (improved)\n",
      "epoch: 30 loss_train: 0.00789, loss_val: 0.00989, train_acc: 99.9382%, valid_acc: 99.5800% (improved)\n",
      "epoch: 31 loss_train: 0.00762, loss_val: 0.00948, train_acc: 99.9582%, valid_acc: 99.6600% (improved)\n",
      "epoch: 32 loss_train: 0.00761, loss_val: 0.00941, train_acc: 99.9527%, valid_acc: 99.6400% (improved)\n",
      "epoch: 33 loss_train: 0.00743, loss_val: 0.00938, train_acc: 99.9473%, valid_acc: 99.6600% (improved)\n",
      "epoch: 34 loss_train: 0.00737, loss_val: 0.00943, train_acc: 99.9673%, valid_acc: 99.6400% \n",
      "epoch: 35 loss_train: 0.00711, loss_val: 0.00922, train_acc: 99.9655%, valid_acc: 99.6200% (improved)\n",
      "epoch: 36 loss_train: 0.00699, loss_val: 0.00937, train_acc: 99.9709%, valid_acc: 99.6200% \n",
      "epoch: 37 loss_train: 0.00701, loss_val: 0.00905, train_acc: 99.9691%, valid_acc: 99.5800% (improved)\n",
      "epoch: 38 loss_train: 0.00687, loss_val: 0.00914, train_acc: 99.9709%, valid_acc: 99.5600% \n",
      "epoch: 39 loss_train: 0.00674, loss_val: 0.00912, train_acc: 99.9709%, valid_acc: 99.5600% \n",
      "epoch: 40 loss_train: 0.00663, loss_val: 0.00887, train_acc: 99.9727%, valid_acc: 99.6200% (improved)\n",
      "epoch: 41 loss_train: 0.00654, loss_val: 0.00901, train_acc: 99.9764%, valid_acc: 99.5800% \n",
      "epoch: 42 loss_train: 0.00653, loss_val: 0.00899, train_acc: 99.9800%, valid_acc: 99.6000% \n",
      "epoch: 43 loss_train: 0.00643, loss_val: 0.00887, train_acc: 99.9745%, valid_acc: 99.5800% (improved)\n",
      "epoch: 44 loss_train: 0.00641, loss_val: 0.00862, train_acc: 99.9764%, valid_acc: 99.6000% (improved)\n",
      "epoch: 45 loss_train: 0.00628, loss_val: 0.00874, train_acc: 99.9818%, valid_acc: 99.5600% \n",
      "epoch: 46 loss_train: 0.00628, loss_val: 0.00854, train_acc: 99.9782%, valid_acc: 99.6000% (improved)\n",
      "epoch: 47 loss_train: 0.00620, loss_val: 0.00861, train_acc: 99.9745%, valid_acc: 99.5800% \n",
      "epoch: 48 loss_train: 0.00614, loss_val: 0.00876, train_acc: 99.9745%, valid_acc: 99.6000% \n",
      "epoch: 49 loss_train: 0.00610, loss_val: 0.00869, train_acc: 99.9818%, valid_acc: 99.5800% \n",
      "epoch: 50 loss_train: 0.00607, loss_val: 0.00860, train_acc: 99.9782%, valid_acc: 99.5800% \n"
     ]
    }
   ],
   "source": [
    "train(model, False, 50)"
   ]
  },
  {
   "cell_type": "code",
   "execution_count": 8,
   "metadata": {},
   "outputs": [],
   "source": [
    "def test(model):\n",
    "    batch_size = 100\n",
    "\n",
    "    n_iter_test_per_epoch = mnist.test.num_examples // batch_size\n",
    "\n",
    "    loss_test_ep = []\n",
    "    acc_test_ep  = []\n",
    "    \n",
    "    with tf.Session() as sess:\n",
    "        saver = tf.train.import_meta_graph(checkpoint_file +'.meta')\n",
    "        saver.restore(sess, tf.train.latest_checkpoint('tmp/'))\n",
    "        \n",
    "        print(\"\\n\")\n",
    "        for it in range(1, n_iter_test_per_epoch + 1):\n",
    "            X_batch, y_batch = mnist.test.next_batch(batch_size)\n",
    "            loss_batch_test, acc_batch_test = sess.run(\n",
    "                [model.batch_loss, model.accuracy],\n",
    "                    feed_dict = {model.X_cropped: X_batch.reshape([-1, 28, 28, 1]),\n",
    "                                model.y: y_batch,\n",
    "                                model.reconstruction: False})\n",
    "\n",
    "            loss_test_ep.append(loss_batch_test)\n",
    "            acc_test_ep.append(acc_batch_test)\n",
    "            print(\"\\rTesting {}/{} {:.1f}%\".format(it, n_iter_test_per_epoch, 100.0 * it / n_iter_test_per_epoch), end=\" \"*30)\t\n",
    "\n",
    "        loss_test = np.mean(loss_test_ep)\n",
    "        acc_test  = np.mean(acc_test_ep)\n",
    "\n",
    "        print(\"\\r(Testing) accuracy: {:.3f}%, loss: {:.4f}\".format(acc_test*100.0, loss_test))"
   ]
  },
  {
   "cell_type": "code",
   "execution_count": 9,
   "metadata": {},
   "outputs": [
    {
     "name": "stdout",
     "output_type": "stream",
     "text": [
      "WARNING:tensorflow:From /usr/local/lib/python3.5/dist-packages/tensorflow/python/training/saver.py:1266: checkpoint_exists (from tensorflow.python.training.checkpoint_management) is deprecated and will be removed in a future version.\n",
      "Instructions for updating:\n",
      "Use standard file APIs to check for files with this prefix.\n",
      "INFO:tensorflow:Restoring parameters from tmp/model.ckpt\n",
      "\n",
      "\n",
      "(Testing) accuracy: 99.610%, loss: 0.0087           \n"
     ]
    }
   ],
   "source": [
    "test(model)"
   ]
  },
  {
   "cell_type": "code",
   "execution_count": null,
   "metadata": {},
   "outputs": [],
   "source": [
    "def reconstruction(model, num_samples):\n",
    "    samples_imgs = mnist.test.images[:num_samples].reshape([-1, 28, 28, 1])\n",
    "\n",
    "    with tf.Session() as sess:\n",
    "        saver = tf.train.import_meta_graph(checkpoint_file +'.meta')\n",
    "        saver.restore(sess, tf.train.latest_checkpoint('tmp/'))\n",
    "\n",
    "        decoder_output, y_pred_value = sess.run(\n",
    "            [model.decoder_output, model.y_pred],\n",
    "            feed_dict = {model.X_cropped: samples_imgs})\n",
    "\n",
    "\n",
    "    samples_imgs = samples_imgs.reshape([-1, 28, 28])\n",
    "    reconstructions_imgs = decoder_output.reshape([-1, 28, 28])\t\n",
    "\n",
    "    plt.figure(figsize = (num_samples * 2, 4))\n",
    "\n",
    "    for img_idx in range(num_samples):\n",
    "        plt.subplot(2, num_samples, img_idx + 1)\n",
    "        plt.imshow(samples_imgs[img_idx], cmap='gray')\n",
    "        plt.title(\"Input: \" + str(mnist.test.labels[img_idx]))\n",
    "        plt.axis(\"off\")\n",
    "\n",
    "    for img_idx in range(num_samples):\n",
    "        plt.subplot(2, num_samples, num_samples + img_idx + 1)\n",
    "        plt.imshow(reconstructions_imgs[img_idx], cmap='gray')\n",
    "        plt.title(\"Output: \" + str(y_pred_value[img_idx]))\n",
    "        plt.axis(\"off\")\n",
    "\n",
    "plt.show()"
   ]
  },
  {
   "cell_type": "code",
   "execution_count": 11,
   "metadata": {},
   "outputs": [
    {
     "name": "stdout",
     "output_type": "stream",
     "text": [
      "INFO:tensorflow:Restoring parameters from tmp/model.ckpt\n"
     ]
    },
    {
     "data": {
      "image/png": "[encoded data removed]",
      "text/plain": [
       "<Figure size 720x288 with 10 Axes>"
      ]
     },
     "metadata": {
      "needs_background": "light"
     },
     "output_type": "display_data"
    }
   ],
   "source": [
    "reconstruction(model, 5)"
   ]
  },
  {
   "cell_type": "code",
   "execution_count": null,
   "metadata": {},
   "outputs": [],
   "source": []
  }
 ],
 "metadata": {
  "kernelspec": {
   "display_name": "Python 3",
   "language": "python",
   "name": "python3"
  },
  "language_info": {
   "codemirror_mode": {
    "name": "ipython",
    "version": 3
   },
   "file_extension": ".py",
   "mimetype": "text/x-python",
   "name": "python",
   "nbconvert_exporter": "python",
   "pygments_lexer": "ipython3",
   "version": "3.5.3"
  }
 },
 "nbformat": 4,
 "nbformat_minor": 2
}
