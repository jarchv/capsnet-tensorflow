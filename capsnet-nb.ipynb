{
 "cells": [
  {
   "cell_type": "code",
   "execution_count": 1,
   "metadata": {},
   "outputs": [
    {
     "name": "stdout",
     "output_type": "stream",
     "text": [
      "WARNING:tensorflow:From <ipython-input-1-4ba255d76b9c>:9: read_data_sets (from tensorflow.contrib.learn.python.learn.datasets.mnist) is deprecated and will be removed in a future version.\n",
      "Instructions for updating:\n",
      "Please use alternatives such as official/mnist/dataset.py from tensorflow/models.\n",
      "WARNING:tensorflow:From /home/jose/.local/lib/python3.6/site-packages/tensorflow/contrib/learn/python/learn/datasets/mnist.py:260: maybe_download (from tensorflow.contrib.learn.python.learn.datasets.base) is deprecated and will be removed in a future version.\n",
      "Instructions for updating:\n",
      "Please write your own downloading logic.\n",
      "WARNING:tensorflow:From /home/jose/.local/lib/python3.6/site-packages/tensorflow/contrib/learn/python/learn/datasets/mnist.py:262: extract_images (from tensorflow.contrib.learn.python.learn.datasets.mnist) is deprecated and will be removed in a future version.\n",
      "Instructions for updating:\n",
      "Please use tf.data to implement this functionality.\n",
      "Extracting MNIST_data/train-images-idx3-ubyte.gz\n",
      "WARNING:tensorflow:From /home/jose/.local/lib/python3.6/site-packages/tensorflow/contrib/learn/python/learn/datasets/mnist.py:267: extract_labels (from tensorflow.contrib.learn.python.learn.datasets.mnist) is deprecated and will be removed in a future version.\n",
      "Instructions for updating:\n",
      "Please use tf.data to implement this functionality.\n",
      "Extracting MNIST_data/train-labels-idx1-ubyte.gz\n",
      "Extracting MNIST_data/t10k-images-idx3-ubyte.gz\n",
      "Extracting MNIST_data/t10k-labels-idx1-ubyte.gz\n",
      "WARNING:tensorflow:From /home/jose/.local/lib/python3.6/site-packages/tensorflow/contrib/learn/python/learn/datasets/mnist.py:290: DataSet.__init__ (from tensorflow.contrib.learn.python.learn.datasets.mnist) is deprecated and will be removed in a future version.\n",
      "Instructions for updating:\n",
      "Please use alternatives such as official/mnist/dataset.py from tensorflow/models.\n"
     ]
    }
   ],
   "source": [
    "import tensorflow as tf\n",
    "import numpy as np\n",
    "import matplotlib.pyplot as plt\n",
    "\n",
    "from capsnet import CapsNet\n",
    "\n",
    "from tensorflow.examples.tutorials.mnist import input_data\n",
    "\n",
    "mnist = input_data.read_data_sets('MNIST_data/')\n",
    "batch_size = 10"
   ]
  },
  {
   "cell_type": "code",
   "execution_count": 2,
   "metadata": {},
   "outputs": [],
   "source": [
    "tf.reset_default_graph()"
   ]
  },
  {
   "cell_type": "code",
   "execution_count": 3,
   "metadata": {},
   "outputs": [],
   "source": [
    "tf.random.set_random_seed(0)\n",
    "np.random.seed(0)"
   ]
  },
  {
   "cell_type": "code",
   "execution_count": 4,
   "metadata": {},
   "outputs": [],
   "source": [
    "checkpoint_file = './tmp/model.ckpt'"
   ]
  },
  {
   "cell_type": "code",
   "execution_count": 5,
   "metadata": {},
   "outputs": [],
   "source": [
    "def train(model, restore = False, n_epochs = 50):\n",
    "    init = tf.global_variables_initializer()\t\n",
    "\n",
    "    n_iter_train_per_epoch = mnist.train.num_examples // batch_size\n",
    "    n_iter_valid_per_epoch = mnist.validation.num_examples // batch_size\n",
    "\n",
    "    best_loss_val = np.infty\n",
    "    \n",
    "    saver = tf.train.Saver()\n",
    "    \n",
    "    with tf.Session() as sess:\n",
    "        writer = tf.summary.FileWriter(\"output\", sess.graph)\n",
    "\n",
    "        if restore and tf.train.checkpoint_exists('checkpoint_file'):\n",
    "            saver.restore(sess, checkpoint_file)\n",
    "        else:\n",
    "            init.run()\n",
    "\n",
    "        print('\\n\\nRunning CapsNet ...\\n')\n",
    "        count_params()\n",
    "        \n",
    "        for epoch in range(n_epochs):\n",
    "            loss_train_ep = []\n",
    "            acc_train_ep  = []\n",
    "            for it in range(1, n_iter_train_per_epoch + 1):\n",
    "                X_batch, y_batch = mnist.train.next_batch(batch_size)\n",
    "\n",
    "                _, loss_batch_train, acc_batch_train = sess.run(\n",
    "                                [model.train_op, model.batch_loss, model.accuracy],\n",
    "                                feed_dict = {model.X: X_batch.reshape([-1, 28, 28, 1]),\n",
    "                                                model.y: y_batch,\n",
    "                                                model.reconstruction: True})\n",
    "\n",
    "                print(\"\\rIter: {}/{} [{:.1f}%] loss : {:.5f}\".format(\n",
    "                    it, n_iter_train_per_epoch, 100.0 * it / n_iter_train_per_epoch, loss_batch_train), end=\"\")\n",
    "\n",
    "                loss_train_ep.append(loss_batch_train)\n",
    "                acc_train_ep.append(acc_batch_train)\n",
    "            loss_train = np.mean(loss_train_ep)\n",
    "            acc_train = np.mean(acc_train_ep)\n",
    "            \n",
    "            loss_val_ep = []\n",
    "            acc_val_ep  = []\n",
    "\n",
    "            for it in range(1, n_iter_valid_per_epoch + 1):\n",
    "                X_batch, y_batch = mnist.validation.next_batch(batch_size)\n",
    "                loss_batch_val, acc_batch_val = sess.run(\n",
    "                                [model.batch_loss, model.accuracy],\n",
    "                                feed_dict = {model.X_cropped: X_batch.reshape([-1, 28, 28, 1]),\n",
    "                                                model.y: y_batch})\n",
    "\n",
    "                loss_val_ep.append(loss_batch_val)\n",
    "                acc_val_ep.append(acc_batch_val)\n",
    "\n",
    "                print(\"\\rValidation {}/{} {:.1f}%\".format(it, n_iter_valid_per_epoch, 100.0 * it / n_iter_valid_per_epoch), end=\" \"*30)\n",
    "\n",
    "            loss_val = np.mean(loss_val_ep)\n",
    "            acc_val  = np.mean(acc_val_ep)\n",
    "\n",
    "            print(\"\\repoch: {} loss_train: {:.5f}, loss_val: {:.5f}, train_acc: {:.4f}%, valid_acc: {:.4f}% {}\".format(\n",
    "                epoch + 1, loss_train, loss_val, acc_train * 100.0, acc_val * 100.0, \"(improved)\" if loss_val < best_loss_val else \"\"))\n",
    "\n",
    "            if loss_val < best_loss_val:\n",
    "                best_loss_val = loss_val\n",
    "            saver.save(sess, checkpoint_file)\n",
    "            \n",
    "\n",
    "        writer.close()"
   ]
  },
  {
   "cell_type": "code",
   "execution_count": 6,
   "metadata": {},
   "outputs": [],
   "source": [
    "model = CapsNet(rounds = 3)"
   ]
  },
  {
   "cell_type": "code",
   "execution_count": 7,
   "metadata": {},
   "outputs": [
    {
     "name": "stdout",
     "output_type": "stream",
     "text": [
      "\n",
      "\n",
      "Running CapsNet ...\n",
      "\n",
      "epoch: 1 loss_train: 0.08172, loss_val: 0.03660, train_acc: 94.6073%, valid_acc: 98.8200% (improved)\n",
      "epoch: 2 loss_train: 0.03985, loss_val: 0.03502, train_acc: 98.4346%, valid_acc: 98.7400% (improved)\n",
      "epoch: 3 loss_train: 0.03164, loss_val: 0.02334, train_acc: 98.8291%, valid_acc: 99.1800% (improved)\n",
      "epoch: 4 loss_train: 0.02674, loss_val: 0.02192, train_acc: 99.1455%, valid_acc: 99.2600% (improved)\n",
      "epoch: 5 loss_train: 0.02356, loss_val: 0.01896, train_acc: 99.2509%, valid_acc: 99.2600% (improved)\n",
      "epoch: 6 loss_train: 0.02163, loss_val: 0.02469, train_acc: 99.2945%, valid_acc: 99.2000% \n",
      "epoch: 7 loss_train: 0.01968, loss_val: 0.01836, train_acc: 99.4291%, valid_acc: 99.2200% (improved)\n",
      "epoch: 8 loss_train: 0.01801, loss_val: 0.01579, train_acc: 99.5455%, valid_acc: 99.4600% (improved)\n",
      "epoch: 9 loss_train: 0.01698, loss_val: 0.01715, train_acc: 99.5364%, valid_acc: 99.3200% \n",
      "epoch: 10 loss_train: 0.01583, loss_val: 0.01528, train_acc: 99.6255%, valid_acc: 99.5600% (improved)\n",
      "epoch: 11 loss_train: 0.01488, loss_val: 0.01574, train_acc: 99.6473%, valid_acc: 99.3400% \n",
      "epoch: 12 loss_train: 0.01411, loss_val: 0.01420, train_acc: 99.7055%, valid_acc: 99.4400% (improved)\n",
      "epoch: 13 loss_train: 0.01313, loss_val: 0.01362, train_acc: 99.7600%, valid_acc: 99.4600% (improved)\n",
      "epoch: 14 loss_train: 0.01253, loss_val: 0.01404, train_acc: 99.7582%, valid_acc: 99.3600% \n",
      "epoch: 15 loss_train: 0.01190, loss_val: 0.01256, train_acc: 99.8018%, valid_acc: 99.5200% (improved)\n",
      "epoch: 16 loss_train: 0.01130, loss_val: 0.01328, train_acc: 99.8036%, valid_acc: 99.4400% \n",
      "epoch: 17 loss_train: 0.01078, loss_val: 0.01211, train_acc: 99.8291%, valid_acc: 99.3800% (improved)\n",
      "epoch: 18 loss_train: 0.01030, loss_val: 0.01185, train_acc: 99.8618%, valid_acc: 99.4000% (improved)\n",
      "epoch: 19 loss_train: 0.00994, loss_val: 0.01162, train_acc: 99.8582%, valid_acc: 99.4200% (improved)\n",
      "epoch: 20 loss_train: 0.00957, loss_val: 0.01122, train_acc: 99.8782%, valid_acc: 99.5200% (improved)\n",
      "epoch: 21 loss_train: 0.00918, loss_val: 0.01130, train_acc: 99.8836%, valid_acc: 99.5200% \n",
      "epoch: 22 loss_train: 0.00885, loss_val: 0.01100, train_acc: 99.8891%, valid_acc: 99.4000% (improved)\n",
      "epoch: 23 loss_train: 0.00866, loss_val: 0.01160, train_acc: 99.8891%, valid_acc: 99.4400% \n",
      "epoch: 24 loss_train: 0.00840, loss_val: 0.01074, train_acc: 99.9018%, valid_acc: 99.4400% (improved)\n",
      "epoch: 25 loss_train: 0.00812, loss_val: 0.01108, train_acc: 99.9164%, valid_acc: 99.4200% \n",
      "epoch: 26 loss_train: 0.00789, loss_val: 0.01033, train_acc: 99.9200%, valid_acc: 99.5000% (improved)\n",
      "epoch: 27 loss_train: 0.00771, loss_val: 0.01026, train_acc: 99.9091%, valid_acc: 99.5000% (improved)\n",
      "epoch: 28 loss_train: 0.00746, loss_val: 0.00986, train_acc: 99.9236%, valid_acc: 99.5000% (improved)\n",
      "epoch: 29 loss_train: 0.00732, loss_val: 0.01063, train_acc: 99.9400%, valid_acc: 99.4600% \n",
      "epoch: 30 loss_train: 0.00713, loss_val: 0.01004, train_acc: 99.9364%, valid_acc: 99.5400% \n",
      "epoch: 31 loss_train: 0.00701, loss_val: 0.00947, train_acc: 99.9436%, valid_acc: 99.5600% (improved)\n",
      "epoch: 32 loss_train: 0.00678, loss_val: 0.00945, train_acc: 99.9436%, valid_acc: 99.5200% (improved)\n",
      "epoch: 33 loss_train: 0.00672, loss_val: 0.00933, train_acc: 99.9473%, valid_acc: 99.5200% (improved)\n",
      "epoch: 34 loss_train: 0.00651, loss_val: 0.00926, train_acc: 99.9545%, valid_acc: 99.5200% (improved)\n",
      "Iter: 2946/5500 [53.6%] loss : 0.00804"
     ]
    },
    {
     "ename": "KeyboardInterrupt",
     "evalue": "",
     "output_type": "error",
     "traceback": [
      "\u001b[0;31m---------------------------------------------------------------------------\u001b[0m",
      "\u001b[0;31mKeyboardInterrupt\u001b[0m                         Traceback (most recent call last)",
      "\u001b[0;32m<ipython-input-7-a31da9ef0a85>\u001b[0m in \u001b[0;36m<module>\u001b[0;34m\u001b[0m\n\u001b[0;32m----> 1\u001b[0;31m \u001b[0mtrain\u001b[0m\u001b[0;34m(\u001b[0m\u001b[0mmodel\u001b[0m\u001b[0;34m,\u001b[0m \u001b[0;32mFalse\u001b[0m\u001b[0;34m,\u001b[0m \u001b[0;36m50\u001b[0m\u001b[0;34m)\u001b[0m\u001b[0;34m\u001b[0m\u001b[0;34m\u001b[0m\u001b[0m\n\u001b[0m",
      "\u001b[0;32m<ipython-input-5-502459bc96ea>\u001b[0m in \u001b[0;36mtrain\u001b[0;34m(model, restore, n_epochs)\u001b[0m\n\u001b[1;32m     28\u001b[0m                                 feed_dict = {model.X: X_batch.reshape([-1, 28, 28, 1]),\n\u001b[1;32m     29\u001b[0m                                                 \u001b[0mmodel\u001b[0m\u001b[0;34m.\u001b[0m\u001b[0my\u001b[0m\u001b[0;34m:\u001b[0m \u001b[0my_batch\u001b[0m\u001b[0;34m,\u001b[0m\u001b[0;34m\u001b[0m\u001b[0;34m\u001b[0m\u001b[0m\n\u001b[0;32m---> 30\u001b[0;31m                                                 model.reconstruction: True})\n\u001b[0m\u001b[1;32m     31\u001b[0m \u001b[0;34m\u001b[0m\u001b[0m\n\u001b[1;32m     32\u001b[0m                 print(\"\\rIter: {}/{} [{:.1f}%] loss : {:.5f}\".format(\n",
      "\u001b[0;32m~/.local/lib/python3.6/site-packages/tensorflow/python/client/session.py\u001b[0m in \u001b[0;36mrun\u001b[0;34m(self, fetches, feed_dict, options, run_metadata)\u001b[0m\n\u001b[1;32m    927\u001b[0m     \u001b[0;32mtry\u001b[0m\u001b[0;34m:\u001b[0m\u001b[0;34m\u001b[0m\u001b[0;34m\u001b[0m\u001b[0m\n\u001b[1;32m    928\u001b[0m       result = self._run(None, fetches, feed_dict, options_ptr,\n\u001b[0;32m--> 929\u001b[0;31m                          run_metadata_ptr)\n\u001b[0m\u001b[1;32m    930\u001b[0m       \u001b[0;32mif\u001b[0m \u001b[0mrun_metadata\u001b[0m\u001b[0;34m:\u001b[0m\u001b[0;34m\u001b[0m\u001b[0;34m\u001b[0m\u001b[0m\n\u001b[1;32m    931\u001b[0m         \u001b[0mproto_data\u001b[0m \u001b[0;34m=\u001b[0m \u001b[0mtf_session\u001b[0m\u001b[0;34m.\u001b[0m\u001b[0mTF_GetBuffer\u001b[0m\u001b[0;34m(\u001b[0m\u001b[0mrun_metadata_ptr\u001b[0m\u001b[0;34m)\u001b[0m\u001b[0;34m\u001b[0m\u001b[0;34m\u001b[0m\u001b[0m\n",
      "\u001b[0;32m~/.local/lib/python3.6/site-packages/tensorflow/python/client/session.py\u001b[0m in \u001b[0;36m_run\u001b[0;34m(self, handle, fetches, feed_dict, options, run_metadata)\u001b[0m\n\u001b[1;32m   1150\u001b[0m     \u001b[0;32mif\u001b[0m \u001b[0mfinal_fetches\u001b[0m \u001b[0;32mor\u001b[0m \u001b[0mfinal_targets\u001b[0m \u001b[0;32mor\u001b[0m \u001b[0;34m(\u001b[0m\u001b[0mhandle\u001b[0m \u001b[0;32mand\u001b[0m \u001b[0mfeed_dict_tensor\u001b[0m\u001b[0;34m)\u001b[0m\u001b[0;34m:\u001b[0m\u001b[0;34m\u001b[0m\u001b[0;34m\u001b[0m\u001b[0m\n\u001b[1;32m   1151\u001b[0m       results = self._do_run(handle, final_targets, final_fetches,\n\u001b[0;32m-> 1152\u001b[0;31m                              feed_dict_tensor, options, run_metadata)\n\u001b[0m\u001b[1;32m   1153\u001b[0m     \u001b[0;32melse\u001b[0m\u001b[0;34m:\u001b[0m\u001b[0;34m\u001b[0m\u001b[0;34m\u001b[0m\u001b[0m\n\u001b[1;32m   1154\u001b[0m       \u001b[0mresults\u001b[0m \u001b[0;34m=\u001b[0m \u001b[0;34m[\u001b[0m\u001b[0;34m]\u001b[0m\u001b[0;34m\u001b[0m\u001b[0;34m\u001b[0m\u001b[0m\n",
      "\u001b[0;32m~/.local/lib/python3.6/site-packages/tensorflow/python/client/session.py\u001b[0m in \u001b[0;36m_do_run\u001b[0;34m(self, handle, target_list, fetch_list, feed_dict, options, run_metadata)\u001b[0m\n\u001b[1;32m   1326\u001b[0m     \u001b[0;32mif\u001b[0m \u001b[0mhandle\u001b[0m \u001b[0;32mis\u001b[0m \u001b[0;32mNone\u001b[0m\u001b[0;34m:\u001b[0m\u001b[0;34m\u001b[0m\u001b[0;34m\u001b[0m\u001b[0m\n\u001b[1;32m   1327\u001b[0m       return self._do_call(_run_fn, feeds, fetches, targets, options,\n\u001b[0;32m-> 1328\u001b[0;31m                            run_metadata)\n\u001b[0m\u001b[1;32m   1329\u001b[0m     \u001b[0;32melse\u001b[0m\u001b[0;34m:\u001b[0m\u001b[0;34m\u001b[0m\u001b[0;34m\u001b[0m\u001b[0m\n\u001b[1;32m   1330\u001b[0m       \u001b[0;32mreturn\u001b[0m \u001b[0mself\u001b[0m\u001b[0;34m.\u001b[0m\u001b[0m_do_call\u001b[0m\u001b[0;34m(\u001b[0m\u001b[0m_prun_fn\u001b[0m\u001b[0;34m,\u001b[0m \u001b[0mhandle\u001b[0m\u001b[0;34m,\u001b[0m \u001b[0mfeeds\u001b[0m\u001b[0;34m,\u001b[0m \u001b[0mfetches\u001b[0m\u001b[0;34m)\u001b[0m\u001b[0;34m\u001b[0m\u001b[0;34m\u001b[0m\u001b[0m\n",
      "\u001b[0;32m~/.local/lib/python3.6/site-packages/tensorflow/python/client/session.py\u001b[0m in \u001b[0;36m_do_call\u001b[0;34m(self, fn, *args)\u001b[0m\n\u001b[1;32m   1332\u001b[0m   \u001b[0;32mdef\u001b[0m \u001b[0m_do_call\u001b[0m\u001b[0;34m(\u001b[0m\u001b[0mself\u001b[0m\u001b[0;34m,\u001b[0m \u001b[0mfn\u001b[0m\u001b[0;34m,\u001b[0m \u001b[0;34m*\u001b[0m\u001b[0margs\u001b[0m\u001b[0;34m)\u001b[0m\u001b[0;34m:\u001b[0m\u001b[0;34m\u001b[0m\u001b[0;34m\u001b[0m\u001b[0m\n\u001b[1;32m   1333\u001b[0m     \u001b[0;32mtry\u001b[0m\u001b[0;34m:\u001b[0m\u001b[0;34m\u001b[0m\u001b[0;34m\u001b[0m\u001b[0m\n\u001b[0;32m-> 1334\u001b[0;31m       \u001b[0;32mreturn\u001b[0m \u001b[0mfn\u001b[0m\u001b[0;34m(\u001b[0m\u001b[0;34m*\u001b[0m\u001b[0margs\u001b[0m\u001b[0;34m)\u001b[0m\u001b[0;34m\u001b[0m\u001b[0;34m\u001b[0m\u001b[0m\n\u001b[0m\u001b[1;32m   1335\u001b[0m     \u001b[0;32mexcept\u001b[0m \u001b[0merrors\u001b[0m\u001b[0;34m.\u001b[0m\u001b[0mOpError\u001b[0m \u001b[0;32mas\u001b[0m \u001b[0me\u001b[0m\u001b[0;34m:\u001b[0m\u001b[0;34m\u001b[0m\u001b[0;34m\u001b[0m\u001b[0m\n\u001b[1;32m   1336\u001b[0m       \u001b[0mmessage\u001b[0m \u001b[0;34m=\u001b[0m \u001b[0mcompat\u001b[0m\u001b[0;34m.\u001b[0m\u001b[0mas_text\u001b[0m\u001b[0;34m(\u001b[0m\u001b[0me\u001b[0m\u001b[0;34m.\u001b[0m\u001b[0mmessage\u001b[0m\u001b[0;34m)\u001b[0m\u001b[0;34m\u001b[0m\u001b[0;34m\u001b[0m\u001b[0m\n",
      "\u001b[0;32m~/.local/lib/python3.6/site-packages/tensorflow/python/client/session.py\u001b[0m in \u001b[0;36m_run_fn\u001b[0;34m(feed_dict, fetch_list, target_list, options, run_metadata)\u001b[0m\n\u001b[1;32m   1317\u001b[0m       \u001b[0mself\u001b[0m\u001b[0;34m.\u001b[0m\u001b[0m_extend_graph\u001b[0m\u001b[0;34m(\u001b[0m\u001b[0;34m)\u001b[0m\u001b[0;34m\u001b[0m\u001b[0;34m\u001b[0m\u001b[0m\n\u001b[1;32m   1318\u001b[0m       return self._call_tf_sessionrun(\n\u001b[0;32m-> 1319\u001b[0;31m           options, feed_dict, fetch_list, target_list, run_metadata)\n\u001b[0m\u001b[1;32m   1320\u001b[0m \u001b[0;34m\u001b[0m\u001b[0m\n\u001b[1;32m   1321\u001b[0m     \u001b[0;32mdef\u001b[0m \u001b[0m_prun_fn\u001b[0m\u001b[0;34m(\u001b[0m\u001b[0mhandle\u001b[0m\u001b[0;34m,\u001b[0m \u001b[0mfeed_dict\u001b[0m\u001b[0;34m,\u001b[0m \u001b[0mfetch_list\u001b[0m\u001b[0;34m)\u001b[0m\u001b[0;34m:\u001b[0m\u001b[0;34m\u001b[0m\u001b[0;34m\u001b[0m\u001b[0m\n",
      "\u001b[0;32m~/.local/lib/python3.6/site-packages/tensorflow/python/client/session.py\u001b[0m in \u001b[0;36m_call_tf_sessionrun\u001b[0;34m(self, options, feed_dict, fetch_list, target_list, run_metadata)\u001b[0m\n\u001b[1;32m   1405\u001b[0m     return tf_session.TF_SessionRun_wrapper(\n\u001b[1;32m   1406\u001b[0m         \u001b[0mself\u001b[0m\u001b[0;34m.\u001b[0m\u001b[0m_session\u001b[0m\u001b[0;34m,\u001b[0m \u001b[0moptions\u001b[0m\u001b[0;34m,\u001b[0m \u001b[0mfeed_dict\u001b[0m\u001b[0;34m,\u001b[0m \u001b[0mfetch_list\u001b[0m\u001b[0;34m,\u001b[0m \u001b[0mtarget_list\u001b[0m\u001b[0;34m,\u001b[0m\u001b[0;34m\u001b[0m\u001b[0;34m\u001b[0m\u001b[0m\n\u001b[0;32m-> 1407\u001b[0;31m         run_metadata)\n\u001b[0m\u001b[1;32m   1408\u001b[0m \u001b[0;34m\u001b[0m\u001b[0m\n\u001b[1;32m   1409\u001b[0m   \u001b[0;32mdef\u001b[0m \u001b[0m_call_tf_sessionprun\u001b[0m\u001b[0;34m(\u001b[0m\u001b[0mself\u001b[0m\u001b[0;34m,\u001b[0m \u001b[0mhandle\u001b[0m\u001b[0;34m,\u001b[0m \u001b[0mfeed_dict\u001b[0m\u001b[0;34m,\u001b[0m \u001b[0mfetch_list\u001b[0m\u001b[0;34m)\u001b[0m\u001b[0;34m:\u001b[0m\u001b[0;34m\u001b[0m\u001b[0;34m\u001b[0m\u001b[0m\n",
      "\u001b[0;31mKeyboardInterrupt\u001b[0m: "
     ]
    }
   ],
   "source": [
    "train(model, False, 50)"
   ]
  },
  {
   "cell_type": "code",
   "execution_count": 8,
   "metadata": {},
   "outputs": [],
   "source": [
    "def test(model):\n",
    "    batch_size = 100\n",
    "\n",
    "    n_iter_test_per_epoch = mnist.test.num_examples // batch_size\n",
    "\n",
    "    loss_test_ep = []\n",
    "    acc_test_ep  = []\n",
    "    \n",
    "    with tf.Session() as sess:\n",
    "        saver = tf.train.import_meta_graph(checkpoint_file +'.meta')\n",
    "        saver.restore(sess, tf.train.latest_checkpoint('tmp/'))\n",
    "        \n",
    "        print(\"\\n\")\n",
    "        for it in range(1, n_iter_test_per_epoch + 1):\n",
    "            X_batch, y_batch = mnist.test.next_batch(batch_size)\n",
    "            loss_batch_test, acc_batch_test = sess.run(\n",
    "                [model.batch_loss, model.accuracy],\n",
    "                    feed_dict = {model.X_cropped: X_batch.reshape([-1, 28, 28, 1]),\n",
    "                                model.y: y_batch,\n",
    "                                model.reconstruction: False})\n",
    "\n",
    "            loss_test_ep.append(loss_batch_test)\n",
    "            acc_test_ep.append(acc_batch_test)\n",
    "            print(\"\\rTesting {}/{} {:.1f}%\".format(it, n_iter_test_per_epoch, 100.0 * it / n_iter_test_per_epoch), end=\" \"*30)\t\n",
    "\n",
    "        loss_test = np.mean(loss_test_ep)\n",
    "        acc_test  = np.mean(acc_test_ep)\n",
    "\n",
    "        print(\"\\r(Testing) accuracy: {:.3f}%, loss: {:.4f}\".format(acc_test*100.0, loss_test))"
   ]
  },
  {
   "cell_type": "code",
   "execution_count": 9,
   "metadata": {},
   "outputs": [
    {
     "name": "stdout",
     "output_type": "stream",
     "text": [
      "INFO:tensorflow:Restoring parameters from tmp/model.ckpt\n",
      "\n",
      "\n",
      "(Testing) accuracy: 99.620%, loss: 0.0093           \n"
     ]
    }
   ],
   "source": [
    "test(model)"
   ]
  },
  {
   "cell_type": "code",
   "execution_count": 28,
   "metadata": {},
   "outputs": [],
   "source": [
    "def reconstruction(model, num_samples):\n",
    "    samples_imgs = mnist.test.images[:num_samples].reshape([-1, 28, 28, 1])\n",
    "\n",
    "    with tf.Session() as sess:\n",
    "        saver = tf.train.import_meta_graph(checkpoint_file +'.meta')\n",
    "        saver.restore(sess, tf.train.latest_checkpoint('tmp/'))\n",
    "\n",
    "        decoder_output, y_pred_value = sess.run(\n",
    "            [model.decoder_output, model.y_pred],\n",
    "            feed_dict = {model.X_cropped: samples_imgs})\n",
    "\n",
    "\n",
    "    samples_imgs = samples_imgs.reshape([-1, 28, 28])\n",
    "    reconstructions_imgs = decoder_output.reshape([-1, 28, 28])\t\n",
    "\n",
    "    plt.figure(figsize = (num_samples * 2, 4))\n",
    "\n",
    "    for img_idx in range(num_samples):\n",
    "        plt.subplot(2, num_samples, img_idx + 1)\n",
    "        plt.imshow(samples_imgs[img_idx], cmap='gray')\n",
    "        plt.title(\"Input: \" + str(mnist.test.labels[img_idx]))\n",
    "        plt.axis(\"off\")\n",
    "\n",
    "    for img_idx in range(num_samples):\n",
    "        plt.subplot(2, num_samples, num_samples + img_idx + 1)\n",
    "        plt.imshow(reconstructions_imgs[img_idx], cmap='gray')\n",
    "        plt.title(\"Output: \" + str(y_pred_value[img_idx]))\n",
    "        plt.axis(\"off\")\n",
    "\n",
    "plt.show()"
   ]
  },
  {
   "cell_type": "code",
   "execution_count": 29,
   "metadata": {},
   "outputs": [
    {
     "name": "stdout",
     "output_type": "stream",
     "text": [
      "INFO:tensorflow:Restoring parameters from tmp/model.ckpt\n"
     ]
    },
    {
     "data": {
      "image/png": "[encoded data removed]",
      "text/plain": [
       "<Figure size 720x288 with 10 Axes>"
      ]
     },
     "metadata": {
      "needs_background": "light"
     },
     "output_type": "display_data"
    }
   ],
   "source": [
    "reconstruction(model, 5)"
   ]
  },
  {
   "cell_type": "code",
   "execution_count": null,
   "metadata": {},
   "outputs": [],
   "source": []
  }
 ],
 "metadata": {
  "kernelspec": {
   "display_name": "Python 3",
   "language": "python",
   "name": "python3"
  },
  "language_info": {
   "codemirror_mode": {
    "name": "ipython",
    "version": 3
   },
   "file_extension": ".py",
   "mimetype": "text/x-python",
   "name": "python",
   "nbconvert_exporter": "python",
   "pygments_lexer": "ipython3",
   "version": "3.6.7"
  }
 },
 "nbformat": 4,
 "nbformat_minor": 2
}
